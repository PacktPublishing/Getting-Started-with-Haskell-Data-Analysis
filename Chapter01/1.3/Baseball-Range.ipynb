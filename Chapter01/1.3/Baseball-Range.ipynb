{
 "cells": [
  {
   "cell_type": "code",
   "execution_count": 1,
   "metadata": {
    "collapsed": true
   },
   "outputs": [],
   "source": [
    "import Text.CSV"
   ]
  },
  {
   "cell_type": "code",
   "execution_count": 2,
   "metadata": {
    "collapsed": true
   },
   "outputs": [],
   "source": [
    "baseball <- parseCSVFromFile \"../data/GL2015.TXT\""
   ]
  },
  {
   "cell_type": "code",
   "execution_count": 3,
   "metadata": {
    "collapsed": false
   },
   "outputs": [
    {
     "data": {
      "text/html": [
       "<style>/* Styles used for the Hoogle display in the pager */\n",
       ".hoogle-doc {\n",
       "display: block;\n",
       "padding-bottom: 1.3em;\n",
       "padding-left: 0.4em;\n",
       "}\n",
       ".hoogle-code {\n",
       "display: block;\n",
       "font-family: monospace;\n",
       "white-space: pre;\n",
       "}\n",
       ".hoogle-text {\n",
       "display: block;\n",
       "}\n",
       ".hoogle-name {\n",
       "color: green;\n",
       "font-weight: bold;\n",
       "}\n",
       ".hoogle-head {\n",
       "font-weight: bold;\n",
       "}\n",
       ".hoogle-sub {\n",
       "display: block;\n",
       "margin-left: 0.4em;\n",
       "}\n",
       ".hoogle-package {\n",
       "font-weight: bold;\n",
       "font-style: italic;\n",
       "}\n",
       ".hoogle-module {\n",
       "font-weight: bold;\n",
       "}\n",
       ".hoogle-class {\n",
       "font-weight: bold;\n",
       "}\n",
       ".get-type {\n",
       "color: green;\n",
       "font-weight: bold;\n",
       "font-family: monospace;\n",
       "display: block;\n",
       "white-space: pre-wrap;\n",
       "}\n",
       ".show-type {\n",
       "color: green;\n",
       "font-weight: bold;\n",
       "font-family: monospace;\n",
       "margin-left: 1em;\n",
       "}\n",
       ".mono {\n",
       "font-family: monospace;\n",
       "display: block;\n",
       "}\n",
       ".err-msg {\n",
       "color: red;\n",
       "font-style: italic;\n",
       "font-family: monospace;\n",
       "white-space: pre;\n",
       "display: block;\n",
       "}\n",
       "#unshowable {\n",
       "color: red;\n",
       "font-weight: bold;\n",
       "}\n",
       ".err-msg.in.collapse {\n",
       "padding-top: 0.7em;\n",
       "}\n",
       ".highlight-code {\n",
       "white-space: pre;\n",
       "font-family: monospace;\n",
       "}\n",
       ".suggestion-warning { \n",
       "font-weight: bold;\n",
       "color: rgb(200, 130, 0);\n",
       "}\n",
       ".suggestion-error { \n",
       "font-weight: bold;\n",
       "color: red;\n",
       "}\n",
       ".suggestion-name {\n",
       "font-weight: bold;\n",
       "}\n",
       "</style><span class='get-type'>baseball :: Either ParseError CSV</span>"
      ],
      "text/plain": [
       "baseball :: Either ParseError CSV"
      ]
     },
     "metadata": {},
     "output_type": "display_data"
    }
   ],
   "source": [
    ":type baseball"
   ]
  },
  {
   "cell_type": "code",
   "execution_count": 4,
   "metadata": {
    "collapsed": true
   },
   "outputs": [],
   "source": [
    "noEmptyRows = either (const []) (filter (\\row -> 2 <= length row))"
   ]
  },
  {
   "cell_type": "code",
   "execution_count": 5,
   "metadata": {
    "collapsed": true
   },
   "outputs": [],
   "source": [
    "baseballList = noEmptyRows baseball"
   ]
  },
  {
   "cell_type": "code",
   "execution_count": 6,
   "metadata": {
    "collapsed": false
   },
   "outputs": [
    {
     "data": {
      "text/plain": [
       "2429"
      ]
     },
     "metadata": {},
     "output_type": "display_data"
    }
   ],
   "source": [
    "length baseballList"
   ]
  },
  {
   "cell_type": "code",
   "execution_count": 7,
   "metadata": {
    "collapsed": false
   },
   "outputs": [
    {
     "data": {
      "text/html": [
       "<style>/* Styles used for the Hoogle display in the pager */\n",
       ".hoogle-doc {\n",
       "display: block;\n",
       "padding-bottom: 1.3em;\n",
       "padding-left: 0.4em;\n",
       "}\n",
       ".hoogle-code {\n",
       "display: block;\n",
       "font-family: monospace;\n",
       "white-space: pre;\n",
       "}\n",
       ".hoogle-text {\n",
       "display: block;\n",
       "}\n",
       ".hoogle-name {\n",
       "color: green;\n",
       "font-weight: bold;\n",
       "}\n",
       ".hoogle-head {\n",
       "font-weight: bold;\n",
       "}\n",
       ".hoogle-sub {\n",
       "display: block;\n",
       "margin-left: 0.4em;\n",
       "}\n",
       ".hoogle-package {\n",
       "font-weight: bold;\n",
       "font-style: italic;\n",
       "}\n",
       ".hoogle-module {\n",
       "font-weight: bold;\n",
       "}\n",
       ".hoogle-class {\n",
       "font-weight: bold;\n",
       "}\n",
       ".get-type {\n",
       "color: green;\n",
       "font-weight: bold;\n",
       "font-family: monospace;\n",
       "display: block;\n",
       "white-space: pre-wrap;\n",
       "}\n",
       ".show-type {\n",
       "color: green;\n",
       "font-weight: bold;\n",
       "font-family: monospace;\n",
       "margin-left: 1em;\n",
       "}\n",
       ".mono {\n",
       "font-family: monospace;\n",
       "display: block;\n",
       "}\n",
       ".err-msg {\n",
       "color: red;\n",
       "font-style: italic;\n",
       "font-family: monospace;\n",
       "white-space: pre;\n",
       "display: block;\n",
       "}\n",
       "#unshowable {\n",
       "color: red;\n",
       "font-weight: bold;\n",
       "}\n",
       ".err-msg.in.collapse {\n",
       "padding-top: 0.7em;\n",
       "}\n",
       ".highlight-code {\n",
       "white-space: pre;\n",
       "font-family: monospace;\n",
       "}\n",
       ".suggestion-warning { \n",
       "font-weight: bold;\n",
       "color: rgb(200, 130, 0);\n",
       "}\n",
       ".suggestion-error { \n",
       "font-weight: bold;\n",
       "color: red;\n",
       "}\n",
       ".suggestion-name {\n",
       "font-weight: bold;\n",
       "}\n",
       "</style><span class='get-type'>baseballList :: [[Field]]</span>"
      ],
      "text/plain": [
       "baseballList :: [[Field]]"
      ]
     },
     "metadata": {},
     "output_type": "display_data"
    }
   ],
   "source": [
    ":type baseballList"
   ]
  },
  {
   "cell_type": "code",
   "execution_count": 8,
   "metadata": {
    "collapsed": false
   },
   "outputs": [
    {
     "data": {},
     "metadata": {},
     "output_type": "display_data"
    }
   ],
   "source": [
    ":info Field"
   ]
  },
  {
   "cell_type": "code",
   "execution_count": 9,
   "metadata": {
    "collapsed": false
   },
   "outputs": [
    {
     "data": {
      "text/html": [
       "<style>/* Styles used for the Hoogle display in the pager */\n",
       ".hoogle-doc {\n",
       "display: block;\n",
       "padding-bottom: 1.3em;\n",
       "padding-left: 0.4em;\n",
       "}\n",
       ".hoogle-code {\n",
       "display: block;\n",
       "font-family: monospace;\n",
       "white-space: pre;\n",
       "}\n",
       ".hoogle-text {\n",
       "display: block;\n",
       "}\n",
       ".hoogle-name {\n",
       "color: green;\n",
       "font-weight: bold;\n",
       "}\n",
       ".hoogle-head {\n",
       "font-weight: bold;\n",
       "}\n",
       ".hoogle-sub {\n",
       "display: block;\n",
       "margin-left: 0.4em;\n",
       "}\n",
       ".hoogle-package {\n",
       "font-weight: bold;\n",
       "font-style: italic;\n",
       "}\n",
       ".hoogle-module {\n",
       "font-weight: bold;\n",
       "}\n",
       ".hoogle-class {\n",
       "font-weight: bold;\n",
       "}\n",
       ".get-type {\n",
       "color: green;\n",
       "font-weight: bold;\n",
       "font-family: monospace;\n",
       "display: block;\n",
       "white-space: pre-wrap;\n",
       "}\n",
       ".show-type {\n",
       "color: green;\n",
       "font-weight: bold;\n",
       "font-family: monospace;\n",
       "margin-left: 1em;\n",
       "}\n",
       ".mono {\n",
       "font-family: monospace;\n",
       "display: block;\n",
       "}\n",
       ".err-msg {\n",
       "color: red;\n",
       "font-style: italic;\n",
       "font-family: monospace;\n",
       "white-space: pre;\n",
       "display: block;\n",
       "}\n",
       "#unshowable {\n",
       "color: red;\n",
       "font-weight: bold;\n",
       "}\n",
       ".err-msg.in.collapse {\n",
       "padding-top: 0.7em;\n",
       "}\n",
       ".highlight-code {\n",
       "white-space: pre;\n",
       "font-family: monospace;\n",
       "}\n",
       ".suggestion-warning { \n",
       "font-weight: bold;\n",
       "color: rgb(200, 130, 0);\n",
       "}\n",
       ".suggestion-error { \n",
       "font-weight: bold;\n",
       "color: red;\n",
       "}\n",
       ".suggestion-name {\n",
       "font-weight: bold;\n",
       "}\n",
       "</style><span class='err-msg'>No instance for (Num String) arising from a use of `+'<br/>Possible fix: add an instance declaration for (Num String)<br/>In the expression: \"1\" + 1<br/>In an equation for `it': it = \"1\" + 1</span>"
      ],
      "text/plain": [
       "No instance for (Num String) arising from a use of `+'\n",
       "Possible fix: add an instance declaration for (Num String)\n",
       "In the expression: \"1\" + 1\n",
       "In an equation for `it': it = \"1\" + 1"
      ]
     },
     "metadata": {},
     "output_type": "display_data"
    }
   ],
   "source": [
    "\"1\" + 1"
   ]
  },
  {
   "cell_type": "code",
   "execution_count": 10,
   "metadata": {
    "collapsed": false
   },
   "outputs": [
    {
     "data": {
      "text/plain": [
       "1"
      ]
     },
     "metadata": {},
     "output_type": "display_data"
    }
   ],
   "source": [
    "read \"1\" :: Integer"
   ]
  },
  {
   "cell_type": "code",
   "execution_count": 11,
   "metadata": {
    "collapsed": false
   },
   "outputs": [
    {
     "data": {
      "text/plain": [
       "1.5"
      ]
     },
     "metadata": {},
     "output_type": "display_data"
    }
   ],
   "source": [
    "read \"1.5\" :: Double"
   ]
  },
  {
   "cell_type": "code",
   "execution_count": 12,
   "metadata": {
    "collapsed": true
   },
   "outputs": [],
   "source": [
    "readIndex :: Read cell => Either a CSV -> Int -> [cell]\n",
    "readIndex csv index = map (read . (!! index)) (noEmptyRows csv)"
   ]
  },
  {
   "cell_type": "code",
   "execution_count": 13,
   "metadata": {
    "collapsed": false
   },
   "outputs": [
    {
     "data": {
      "text/plain": [
       "[3,0,0,1,6,0,1,6,5,2,3,2,10,8,3,3,2,6,6,7,12,5,0,2,5,3,0,5,0,5,0,4,4,2,5,2,1,1,5,1,6,10,2,6,1,6,4,12,6,8,6,0,5,3,3,4,1,9,6,1,0,6,1,4,9,8,5,2,0,3,4,9,2,0,2,2,9,10,2,8,4,8,6,7,4,7,6,8,10,4,4,6,4,8,12,6,2,2,6,5,0,4,8,2,5,3,7,4,4,2,3,8,3,5,5,2,1,4,5,10,2,1,1,10,7,6,0,2,1,1,2,4,2,5,4,5,7,0,2,2,1,6,4,2,3,5,8,5,3,1,3,9,1,2,4,12,0,5,4,1,9,5,6,3,4,2,1,2,5,8,1,3,2,2,10,5,5,5,0,6,2,5,1,1,6,1,3,1,1,7,14,6,5,1,6,5,5,6,1,6,7,7,16,1,3,9,2,1,9,0,13,3,2,5,2,5,4,2,2,6,3,2,7,0,3,2,1,6,1,2,3,9,4,2,4,2,7,2,13,1,5,0,3,4,7,4,2,3,0,3,1,4,1,8,9,8,2,2,5,0,5,5,11,5,7,3,6,4,7,4,1,8,5,2,3,4,1,5,6,5,1,3,5,4,0,6,3,3,9,4,11,11,2,2,2,2,5,13,2,2,2,3,14,5,2,1,5,10,3,6,5,1,13,8,8,3,3,7,2,5,2,1,2,6,5,8,3,2,3,4,3,1,0,7,3,0,0,3,0,3,2,1,0,4,11,4,2,3,7,8,6,4,0,1,2,4,1,2,8,7,6,6,3,7,0,5,0,6,1,6,0,2,3,5,2,7,1,5,3,0,9,4,4,0,2,7,3,2,6,0,8,2,7,0,4,2,3,5,6,11,10,0,1,5,13,5,3,1,3,9,6,5,3,4,4,5,3,5,0,14,2,7,1,0,9,5,4,3,2,0,6,2,7,1,8,0,2,6,10,2,7,6,6,2,2,1,6,4,3,5,6,6,1,3,2,2,2,3,2,6,1,9,2,7,3,2,4,2,5,11,2,11,3,2,3,7,4,2,10,8,1,8,2,4,2,7,6,1,3,1,4,7,1,1,0,6,3,2,4,2,2,9,1,1,5,4,2,2,1,4,2,1,6,5,3,5,2,3,3,4,1,2,7,1,8,10,10,4,5,7,3,10,10,6,5,5,4,4,4,10,1,11,7,5,1,5,4,4,0,2,0,11,7,0,1,3,9,0,6,1,0,10,1,1,3,2,6,4,3,1,4,3,3,8,4,0,3,5,5,4,10,8,3,0,6,4,2,4,2,1,1,4,1,4,6,9,4,3,0,2,4,3,5,5,0,4,1,3,7,0,3,0,12,2,3,2,0,10,2,4,4,11,11,1,8,1,1,3,4,1,3,2,15,5,3,9,2,10,3,0,0,2,8,1,8,2,10,6,5,7,2,3,1,2,11,2,1,1,3,3,10,2,1,0,4,0,2,5,3,8,3,2,2,4,4,4,1,1,1,7,9,2,1,0,6,4,1,4,5,4,3,4,2,3,3,5,3,6,3,3,0,2,3,2,3,3,4,5,5,11,0,0,1,6,6,2,1,4,8,2,7,4,4,2,2,0,6,3,0,2,5,4,0,5,7,9,5,5,8,5,2,9,6,5,0,6,3,1,2,6,3,4,1,7,1,3,2,7,8,11,5,7,4,1,6,0,5,4,2,5,2,6,3,9,2,4,2,7,0,0,7,6,3,2,6,1,2,3,9,8,6,3,4,3,5,4,8,8,7,3,6,2,1,6,7,6,2,2,3,5,4,10,7,1,2,2,10,6,6,2,5,5,2,7,1,4,4,2,1,2,1,4,9,5,0,7,4,4,6,7,3,0,2,3,6,6,3,0,3,4,4,6,1,3,3,5,4,3,3,2,0,2,3,0,2,1,2,8,3,5,2,3,1,5,4,2,1,9,12,7,5,4,2,2,1,2,4,6,8,0,5,0,0,6,6,3,0,5,4,4,3,13,0,0,5,2,5,1,4,3,0,4,1,0,0,4,5,5,8,4,7,3,1,7,5,3,1,4,2,8,5,13,1,0,1,4,1,4,4,8,0,4,4,7,0,4,0,3,1,1,1,8,3,0,9,5,2,1,3,4,5,5,16,2,6,2,7,2,0,6,2,2,3,17,2,1,1,2,0,0,2,2,4,8,5,6,5,3,3,2,1,4,3,7,1,7,5,8,0,1,5,2,4,7,2,2,12,2,4,2,1,0,9,9,12,1,2,4,4,4,3,1,3,5,8,4,5,1,6,10,0,2,0,13,8,12,2,6,13,2,0,2,4,2,2,2,3,8,2,11,4,8,2,13,6,7,6,11,0,3,8,0,5,4,2,6,3,1,1,1,2,1,2,8,1,8,5,8,6,1,5,0,1,8,8,0,6,4,4,5,2,5,8,0,3,3,4,3,5,4,2,7,4,1,5,2,2,8,2,2,9,3,1,4,2,5,1,4,2,5,1,2,0,0,4,1,5,5,2,2,3,2,3,5,2,6,3,1,1,8,1,1,7,3,6,7,7,1,8,5,0,2,6,4,6,6,8,3,1,4,5,2,3,2,9,5,1,8,2,4,1,1,5,2,9,7,7,2,8,2,0,5,12,1,1,4,6,8,5,12,0,6,2,5,9,8,3,1,2,12,2,5,2,1,1,2,3,5,2,0,13,3,5,2,7,3,0,1,3,4,9,10,2,8,2,12,6,4,0,6,8,3,1,1,2,9,2,12,6,7,5,1,3,3,3,2,0,5,1,3,4,6,4,4,3,10,7,4,2,0,5,3,6,2,7,3,4,5,7,6,3,0,5,2,4,0,1,3,4,2,2,3,0,0,4,2,5,1,0,6,7,1,3,1,3,2,1,2,2,2,7,3,5,6,5,0,0,6,5,2,7,3,2,5,5,3,8,2,10,1,10,3,2,1,3,3,1,3,5,2,0,4,0,3,2,3,5,2,6,2,1,1,3,2,2,3,0,7,3,7,4,2,3,8,4,9,5,1,4,2,4,4,9,0,1,1,0,2,4,5,1,7,3,5,1,3,4,10,1,5,4,7,3,2,2,0,8,11,3,1,2,7,3,3,5,9,1,1,9,7,2,3,4,2,1,3,3,5,3,1,6,10,7,4,7,3,3,8,3,4,3,5,3,3,3,4,3,4,1,6,4,1,2,1,2,5,5,7,5,1,3,2,7,5,10,1,8,8,5,0,5,5,2,9,1,1,0,7,1,2,1,7,5,5,0,11,7,2,1,2,3,3,1,10,9,4,2,6,8,2,1,3,9,2,5,8,8,2,21,3,7,2,1,0,5,4,0,9,1,3,10,8,2,2,2,2,7,7,7,0,1,9,2,0,5,3,6,2,5,1,5,8,1,8,7,5,13,6,6,2,3,6,5,3,8,4,1,3,0,2,7,2,2,2,1,9,7,3,1,5,4,2,2,6,6,4,12,1,4,1,1,2,3,3,2,4,2,6,2,4,5,9,9,1,8,8,12,13,6,2,11,5,3,0,3,1,8,2,10,5,1,2,5,4,3,5,1,2,7,3,7,6,4,5,8,5,4,5,11,6,1,5,3,8,4,3,1,10,3,4,10,7,2,2,1,3,4,0,3,3,6,4,4,5,5,4,6,6,6,1,11,4,4,2,6,3,5,4,1,4,1,7,4,2,4,2,3,3,4,0,4,6,5,6,2,0,3,3,8,2,1,0,4,1,2,5,0,2,1,3,0,4,0,6,1,3,2,1,7,1,0,6,3,7,2,0,6,0,7,2,2,8,7,6,2,2,10,3,1,10,6,1,6,1,1,6,3,4,2,9,3,1,3,5,1,3,10,6,4,4,1,4,4,8,7,3,2,5,6,2,2,10,1,5,3,1,3,1,1,0,1,1,8,0,6,1,2,8,9,7,3,6,4,3,1,3,5,1,2,4,4,3,10,3,15,9,8,8,0,2,0,4,4,2,3,2,2,15,4,4,7,4,1,2,3,8,15,1,0,1,3,1,5,2,7,0,9,4,2,2,0,7,2,11,3,6,14,7,6,3,10,15,3,6,5,1,2,5,6,7,11,14,4,2,0,1,12,4,8,4,2,4,2,6,3,4,5,2,2,10,5,5,3,0,11,5,3,1,5,5,16,4,6,8,2,15,5,11,6,9,5,5,2,6,8,3,3,2,0,8,6,2,5,12,3,6,7,7,9,2,6,2,2,3,4,1,5,1,2,9,1,2,2,1,0,3,1,3,4,15,1,0,6,1,3,4,4,7,3,4,6,3,1,3,3,2,12,3,3,3,6,1,5,2,5,2,0,2,7,20,2,1,4,9,5,7,4,6,3,3,5,4,4,13,4,4,1,0,5,11,3,7,6,6,6,3,7,4,6,5,1,4,14,8,5,6,13,8,1,0,9,1,7,7,4,1,4,4,4,4,7,6,3,3,7,1,2,5,8,0,12,2,11,10,5,1,5,8,9,2,2,2,0,3,6,3,8,1,0,8,7,7,7,2,1,2,0,2,4,5,7,4,3,4,4,3,7,3,5,7,4,7,4,3,4,6,6,9,3,1,1,9,7,6,9,8,6,5,4,7,2,2,0,9,6,7,4,0,1,8,8,2,4,6,8,3,5,11,0,1,5,2,8,4,3,5,5,0,7,0,6,4,2,8,6,11,4,4,0,4,5,2,1,5,7,3,1,2,14,2,9,10,2,10,5,9,6,1,0,5,2,0,5,2,7,2,9,0,3,2,4,4,10,9,5,4,6,3,0,7,3,1,1,4,3,10,1,3,8,3,5,17,2,5,4,3,5,4,2,5,3,9,4,4,2,9,10,4,1,7,1,3,3,4,9,0,5,6,12,3,3,4,8,11,4,2,5,6,9,6,1,4,4,6,3,1,1,3,4,2,5,1,2,4,4,5,6,4,5,2,1,7,1,4,2,3,9,5,6,2,3,10,1,1,6,9,4,1,4,10,4,4,11,1,3,7,2,3,3,2,5,9,8,0,1,5,1,4,11,1,8,6,0,6,8,6,6,4,1,4,6,4,6,3,2,10,0,4,13,1,3,6,4,2,4,4,4,6,2,8,6,5,3,0,4,3,5,4,0,4,6,6,5,4,3,3,12,4,11,6,4,8,2,0,6,7,9,1,14,8,4,10,6,2,0,1,1,2,0,7,2,0,1,5,4,0,8,5,5,4,8,12,4,4,4,5,3,7,0,3,2,1,1,2,10,4,2,6,3,1,4,3,4,8,8,15,1,5,7,2,9,7,4,2,1,0,10,5,2,11,5,0,4,6,4,1,1,3,6,3,5,0,1,3,1,2,3,4,8,2,21,0,2,6,4,9,2,3,3,0,5,7,3,11,6,1,1,3,2,7,5,3,2,4,6,1,6,2,3,2,3,0,0,3,3,0,2,0,7]"
      ]
     },
     "metadata": {},
     "output_type": "display_data"
    }
   ],
   "source": [
    "readIndex baseball 9 :: [Integer]"
   ]
  },
  {
   "cell_type": "code",
   "execution_count": 14,
   "metadata": {
    "collapsed": true
   },
   "outputs": [],
   "source": [
    "awayRuns = readIndex baseball 9 :: [Integer]"
   ]
  },
  {
   "cell_type": "code",
   "execution_count": 15,
   "metadata": {
    "collapsed": false
   },
   "outputs": [
    {
     "data": {
      "text/plain": [
       "21"
      ]
     },
     "metadata": {},
     "output_type": "display_data"
    }
   ],
   "source": [
    "maximum awayRuns"
   ]
  },
  {
   "cell_type": "code",
   "execution_count": 16,
   "metadata": {
    "collapsed": false
   },
   "outputs": [
    {
     "data": {
      "text/plain": [
       "0"
      ]
     },
     "metadata": {},
     "output_type": "display_data"
    }
   ],
   "source": [
    "minimum awayRuns"
   ]
  },
  {
   "cell_type": "code",
   "execution_count": 17,
   "metadata": {
    "collapsed": false
   },
   "outputs": [
    {
     "data": {
      "text/html": [
       "<style>/* Styles used for the Hoogle display in the pager */\n",
       ".hoogle-doc {\n",
       "display: block;\n",
       "padding-bottom: 1.3em;\n",
       "padding-left: 0.4em;\n",
       "}\n",
       ".hoogle-code {\n",
       "display: block;\n",
       "font-family: monospace;\n",
       "white-space: pre;\n",
       "}\n",
       ".hoogle-text {\n",
       "display: block;\n",
       "}\n",
       ".hoogle-name {\n",
       "color: green;\n",
       "font-weight: bold;\n",
       "}\n",
       ".hoogle-head {\n",
       "font-weight: bold;\n",
       "}\n",
       ".hoogle-sub {\n",
       "display: block;\n",
       "margin-left: 0.4em;\n",
       "}\n",
       ".hoogle-package {\n",
       "font-weight: bold;\n",
       "font-style: italic;\n",
       "}\n",
       ".hoogle-module {\n",
       "font-weight: bold;\n",
       "}\n",
       ".hoogle-class {\n",
       "font-weight: bold;\n",
       "}\n",
       ".get-type {\n",
       "color: green;\n",
       "font-weight: bold;\n",
       "font-family: monospace;\n",
       "display: block;\n",
       "white-space: pre-wrap;\n",
       "}\n",
       ".show-type {\n",
       "color: green;\n",
       "font-weight: bold;\n",
       "font-family: monospace;\n",
       "margin-left: 1em;\n",
       "}\n",
       ".mono {\n",
       "font-family: monospace;\n",
       "display: block;\n",
       "}\n",
       ".err-msg {\n",
       "color: red;\n",
       "font-style: italic;\n",
       "font-family: monospace;\n",
       "white-space: pre;\n",
       "display: block;\n",
       "}\n",
       "#unshowable {\n",
       "color: red;\n",
       "font-weight: bold;\n",
       "}\n",
       ".err-msg.in.collapse {\n",
       "padding-top: 0.7em;\n",
       "}\n",
       ".highlight-code {\n",
       "white-space: pre;\n",
       "font-family: monospace;\n",
       "}\n",
       ".suggestion-warning { \n",
       "font-weight: bold;\n",
       "color: rgb(200, 130, 0);\n",
       "}\n",
       ".suggestion-error { \n",
       "font-weight: bold;\n",
       "color: red;\n",
       "}\n",
       ".suggestion-name {\n",
       "font-weight: bold;\n",
       "}\n",
       "</style><span class='get-type'>(minimum, maximum) :: forall a a1. (Ord a, Ord a1) => ([a] -> a, [a1] -> a1)</span>"
      ],
      "text/plain": [
       "(minimum, maximum) :: forall a a1. (Ord a, Ord a1) => ([a] -> a, [a1] -> a1)"
      ]
     },
     "metadata": {},
     "output_type": "display_data"
    }
   ],
   "source": [
    ":type (minimum, maximum)"
   ]
  },
  {
   "cell_type": "code",
   "execution_count": 18,
   "metadata": {
    "collapsed": true
   },
   "outputs": [],
   "source": [
    "range :: Ord a => [a] -> (a, a)\n",
    "range xs = (minimum xs, maximum xs)"
   ]
  },
  {
   "cell_type": "code",
   "execution_count": 19,
   "metadata": {
    "collapsed": false
   },
   "outputs": [
    {
     "data": {
      "text/plain": [
       "(0,21)"
      ]
     },
     "metadata": {},
     "output_type": "display_data"
    }
   ],
   "source": [
    "range awayRuns"
   ]
  },
  {
   "cell_type": "code",
   "execution_count": 20,
   "metadata": {
    "collapsed": false
   },
   "outputs": [
    {
     "data": {
      "text/html": [
       "<style>/* Styles used for the Hoogle display in the pager */\n",
       ".hoogle-doc {\n",
       "display: block;\n",
       "padding-bottom: 1.3em;\n",
       "padding-left: 0.4em;\n",
       "}\n",
       ".hoogle-code {\n",
       "display: block;\n",
       "font-family: monospace;\n",
       "white-space: pre;\n",
       "}\n",
       ".hoogle-text {\n",
       "display: block;\n",
       "}\n",
       ".hoogle-name {\n",
       "color: green;\n",
       "font-weight: bold;\n",
       "}\n",
       ".hoogle-head {\n",
       "font-weight: bold;\n",
       "}\n",
       ".hoogle-sub {\n",
       "display: block;\n",
       "margin-left: 0.4em;\n",
       "}\n",
       ".hoogle-package {\n",
       "font-weight: bold;\n",
       "font-style: italic;\n",
       "}\n",
       ".hoogle-module {\n",
       "font-weight: bold;\n",
       "}\n",
       ".hoogle-class {\n",
       "font-weight: bold;\n",
       "}\n",
       ".get-type {\n",
       "color: green;\n",
       "font-weight: bold;\n",
       "font-family: monospace;\n",
       "display: block;\n",
       "white-space: pre-wrap;\n",
       "}\n",
       ".show-type {\n",
       "color: green;\n",
       "font-weight: bold;\n",
       "font-family: monospace;\n",
       "margin-left: 1em;\n",
       "}\n",
       ".mono {\n",
       "font-family: monospace;\n",
       "display: block;\n",
       "}\n",
       ".err-msg {\n",
       "color: red;\n",
       "font-style: italic;\n",
       "font-family: monospace;\n",
       "white-space: pre;\n",
       "display: block;\n",
       "}\n",
       "#unshowable {\n",
       "color: red;\n",
       "font-weight: bold;\n",
       "}\n",
       ".err-msg.in.collapse {\n",
       "padding-top: 0.7em;\n",
       "}\n",
       ".highlight-code {\n",
       "white-space: pre;\n",
       "font-family: monospace;\n",
       "}\n",
       ".suggestion-warning { \n",
       "font-weight: bold;\n",
       "color: rgb(200, 130, 0);\n",
       "}\n",
       ".suggestion-error { \n",
       "font-weight: bold;\n",
       "color: red;\n",
       "}\n",
       ".suggestion-name {\n",
       "font-weight: bold;\n",
       "}\n",
       "</style><span class='err-msg'>Prelude.minimum: empty list</span>"
      ],
      "text/plain": [
       "Prelude.minimum: empty list"
      ]
     },
     "metadata": {},
     "output_type": "display_data"
    }
   ],
   "source": [
    "range []"
   ]
  },
  {
   "cell_type": "code",
   "execution_count": 21,
   "metadata": {
    "collapsed": true
   },
   "outputs": [],
   "source": [
    "range :: Ord a => [a] -> Maybe (a, a)\n",
    "range [] = Nothing\n",
    "range [x] = Just (x, x)\n",
    "range xs = Just (minimum xs, maximum xs)"
   ]
  },
  {
   "cell_type": "code",
   "execution_count": 22,
   "metadata": {
    "collapsed": false
   },
   "outputs": [
    {
     "data": {
      "text/plain": [
       "Nothing"
      ]
     },
     "metadata": {},
     "output_type": "display_data"
    }
   ],
   "source": [
    "range []"
   ]
  },
  {
   "cell_type": "code",
   "execution_count": 23,
   "metadata": {
    "collapsed": false
   },
   "outputs": [
    {
     "data": {
      "text/plain": [
       "Just (1,1)"
      ]
     },
     "metadata": {},
     "output_type": "display_data"
    }
   ],
   "source": [
    "range [1]"
   ]
  },
  {
   "cell_type": "code",
   "execution_count": 24,
   "metadata": {
    "collapsed": false
   },
   "outputs": [
    {
     "data": {
      "text/plain": [
       "Just (0,21)"
      ]
     },
     "metadata": {},
     "output_type": "display_data"
    }
   ],
   "source": [
    "range awayRuns"
   ]
  },
  {
   "cell_type": "code",
   "execution_count": null,
   "metadata": {
    "collapsed": true
   },
   "outputs": [],
   "source": []
  }
 ],
 "metadata": {
  "kernelspec": {
   "display_name": "Haskell",
   "language": "haskell",
   "name": "haskell"
  },
  "language_info": {
   "codemirror_mode": "ihaskell",
   "file_extension": ".hs",
   "name": "haskell",
   "version": "7.6.3"
  }
 },
 "nbformat": 4,
 "nbformat_minor": 0
}
