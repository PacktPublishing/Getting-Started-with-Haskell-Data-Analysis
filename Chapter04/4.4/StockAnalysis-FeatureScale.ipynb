{
 "cells": [
  {
   "cell_type": "code",
   "execution_count": 1,
   "metadata": {
    "collapsed": true
   },
   "outputs": [],
   "source": [
    "import Graphics.EasyPlot\n",
    "import Database.HDBC\n",
    "import Database.HDBC.Sqlite3"
   ]
  },
  {
   "cell_type": "code",
   "execution_count": 2,
   "metadata": {
    "collapsed": false
   },
   "outputs": [
    {
     "data": {
      "text/plain": []
     },
     "metadata": {},
     "output_type": "display_data"
    }
   ],
   "source": [
    "db <- connectSqlite3 \"../data/stocks.sqlite3\""
   ]
  },
  {
   "cell_type": "code",
   "execution_count": 3,
   "metadata": {
    "collapsed": true
   },
   "outputs": [],
   "source": [
    "aaplRaw <- quickQuery db \"SELECT adjclose FROM aapl\" []"
   ]
  },
  {
   "cell_type": "code",
   "execution_count": 4,
   "metadata": {
    "collapsed": false
   },
   "outputs": [
    {
     "data": {
      "text/html": [
       "<style>/* Styles used for the Hoogle display in the pager */\n",
       ".hoogle-doc {\n",
       "display: block;\n",
       "padding-bottom: 1.3em;\n",
       "padding-left: 0.4em;\n",
       "}\n",
       ".hoogle-code {\n",
       "display: block;\n",
       "font-family: monospace;\n",
       "white-space: pre;\n",
       "}\n",
       ".hoogle-text {\n",
       "display: block;\n",
       "}\n",
       ".hoogle-name {\n",
       "color: green;\n",
       "font-weight: bold;\n",
       "}\n",
       ".hoogle-head {\n",
       "font-weight: bold;\n",
       "}\n",
       ".hoogle-sub {\n",
       "display: block;\n",
       "margin-left: 0.4em;\n",
       "}\n",
       ".hoogle-package {\n",
       "font-weight: bold;\n",
       "font-style: italic;\n",
       "}\n",
       ".hoogle-module {\n",
       "font-weight: bold;\n",
       "}\n",
       ".hoogle-class {\n",
       "font-weight: bold;\n",
       "}\n",
       ".get-type {\n",
       "color: green;\n",
       "font-weight: bold;\n",
       "font-family: monospace;\n",
       "display: block;\n",
       "white-space: pre-wrap;\n",
       "}\n",
       ".show-type {\n",
       "color: green;\n",
       "font-weight: bold;\n",
       "font-family: monospace;\n",
       "margin-left: 1em;\n",
       "}\n",
       ".mono {\n",
       "font-family: monospace;\n",
       "display: block;\n",
       "}\n",
       ".err-msg {\n",
       "color: red;\n",
       "font-style: italic;\n",
       "font-family: monospace;\n",
       "white-space: pre;\n",
       "display: block;\n",
       "}\n",
       "#unshowable {\n",
       "color: red;\n",
       "font-weight: bold;\n",
       "}\n",
       ".err-msg.in.collapse {\n",
       "padding-top: 0.7em;\n",
       "}\n",
       ".highlight-code {\n",
       "white-space: pre;\n",
       "font-family: monospace;\n",
       "}\n",
       ".suggestion-warning { \n",
       "font-weight: bold;\n",
       "color: rgb(200, 130, 0);\n",
       "}\n",
       ".suggestion-error { \n",
       "font-weight: bold;\n",
       "color: red;\n",
       "}\n",
       ".suggestion-name {\n",
       "font-weight: bold;\n",
       "}\n",
       "</style><span class='get-type'>aaplRaw :: [[SqlValue]]</span>"
      ],
      "text/plain": [
       "aaplRaw :: [[SqlValue]]"
      ]
     },
     "metadata": {},
     "output_type": "display_data"
    }
   ],
   "source": [
    ":t aaplRaw"
   ]
  },
  {
   "cell_type": "code",
   "execution_count": 5,
   "metadata": {
    "collapsed": true
   },
   "outputs": [],
   "source": [
    "aapl = map (fromSql . head) aaplRaw :: [Double]"
   ]
  },
  {
   "cell_type": "code",
   "execution_count": 12,
   "metadata": {
    "collapsed": false
   },
   "outputs": [
    {
     "data": {
      "text/plain": [
       "True"
      ]
     },
     "metadata": {},
     "output_type": "display_data"
    }
   ],
   "source": [
    "plot X11 $ zip [0,-1..] aapl"
   ]
  },
  {
   "cell_type": "code",
   "execution_count": 13,
   "metadata": {
    "collapsed": false
   },
   "outputs": [
    {
     "data": {
      "text/plain": [
       "True"
      ]
     },
     "metadata": {},
     "output_type": "display_data"
    }
   ],
   "source": [
    "plot X11 $ Data2D [Style Lines] [] (zip [0,-1..] aapl)"
   ]
  },
  {
   "cell_type": "code",
   "execution_count": 14,
   "metadata": {
    "collapsed": true
   },
   "outputs": [],
   "source": [
    "movingSum :: [Double] -> [Double] -> [Double]\n",
    "movingSum xs [] = [sum xs]\n",
    "movingSum (x:xs) (y:ys) = (sum (x:xs)):movingSum (xs++[y]) ys"
   ]
  },
  {
   "cell_type": "code",
   "execution_count": 15,
   "metadata": {
    "collapsed": false
   },
   "outputs": [
    {
     "data": {
      "text/plain": [
       "[6.0,9.0,12.0,15.0,18.0,21.0,24.0,27.0]"
      ]
     },
     "metadata": {},
     "output_type": "display_data"
    }
   ],
   "source": [
    "movingSum [1,2,3] [4,5,6,7,8,9,10]"
   ]
  },
  {
   "cell_type": "code",
   "execution_count": 16,
   "metadata": {
    "collapsed": true
   },
   "outputs": [],
   "source": [
    "movingAverage :: [Double] -> Int -> [Double]\n",
    "movingAverage xs windowSize\n",
    " | windowSize < 1 = error \"Cannot have non-positive window size.\"\n",
    " | windowSize > length xs = []\n",
    " | otherwise = map (/ fromIntegral windowSize) movingSums\n",
    " where\n",
    "    movingSums = movingSum (take windowSize xs) (drop windowSize xs)"
   ]
  },
  {
   "cell_type": "code",
   "execution_count": 17,
   "metadata": {
    "collapsed": false
   },
   "outputs": [
    {
     "data": {
      "text/plain": [
       "[2.0,3.0,4.0,5.0,6.0,7.0,8.0,9.0]"
      ]
     },
     "metadata": {},
     "output_type": "display_data"
    }
   ],
   "source": [
    "movingAverage [1..10] 3"
   ]
  },
  {
   "cell_type": "code",
   "execution_count": 18,
   "metadata": {
    "collapsed": true
   },
   "outputs": [],
   "source": [
    "aaplMA = movingAverage aapl 200"
   ]
  },
  {
   "cell_type": "code",
   "execution_count": 21,
   "metadata": {
    "collapsed": false
   },
   "outputs": [
    {
     "data": {
      "text/plain": [
       "True"
      ]
     },
     "metadata": {},
     "output_type": "display_data"
    }
   ],
   "source": [
    "plot X11 $ Data2D [Style Lines] [] (zip [0,-1..] aaplMA)"
   ]
  },
  {
   "cell_type": "code",
   "execution_count": 22,
   "metadata": {
    "collapsed": false
   },
   "outputs": [
    {
     "data": {
      "text/plain": [
       "True"
      ]
     },
     "metadata": {},
     "output_type": "display_data"
    }
   ],
   "source": [
    "plot X11 [Data2D [Style Lines] [] (zip [0,-1..] aapl), Data2D [Style Lines] [] (zip [0,-1..] aaplMA)]"
   ]
  },
  {
   "cell_type": "code",
   "execution_count": 23,
   "metadata": {
    "collapsed": false
   },
   "outputs": [
    {
     "data": {
      "text/plain": [
       "True"
      ]
     },
     "metadata": {},
     "output_type": "display_data"
    }
   ],
   "source": [
    "plot X11\n",
    "   [ Data2D [Style Lines] [] (zip [0,-1..] (take 2000 aapl))\n",
    "   , Data2D [Style Lines] [] (zip [0,-1..] (take 2000 aaplMA))\n",
    "   ]"
   ]
  },
  {
   "cell_type": "code",
   "execution_count": 24,
   "metadata": {
    "collapsed": false
   },
   "outputs": [
    {
     "data": {
      "text/plain": [
       "True"
      ]
     },
     "metadata": {},
     "output_type": "display_data"
    }
   ],
   "source": [
    "plot X11\n",
    "   [ Data2D [Style Lines] [] (zip [0,-1..] (take 2000 aapl))\n",
    "   , Data2D [Style Lines] [] (zip [-100,-101..] (take 2000 aaplMA))\n",
    "   ]"
   ]
  },
  {
   "cell_type": "code",
   "execution_count": 25,
   "metadata": {
    "collapsed": false
   },
   "outputs": [
    {
     "data": {
      "text/plain": [
       "True"
      ]
     },
     "metadata": {},
     "output_type": "display_data"
    }
   ],
   "source": [
    "plot X11\n",
    "   [ Data2D [Style Lines, Title \"AAPL Adj. Close\"] [] (zip [0,-1..] (take 2000 aapl))\n",
    "   , Data2D [Style Lines, Title \"AAPL 200-day MA\"] [] (zip [-100,-101..] (take 2000 aaplMA))\n",
    "   ]"
   ]
  },
  {
   "cell_type": "code",
   "execution_count": 26,
   "metadata": {
    "collapsed": false
   },
   "outputs": [
    {
     "data": {
      "text/plain": [
       "True"
      ]
     },
     "metadata": {},
     "output_type": "display_data"
    }
   ],
   "source": [
    "plot X11\n",
    "   [ Data2D [Style Lines, Title \"AAPL Adj. Close\", Color Blue] [] (zip [0,-1..] (take 2000 aapl))\n",
    "   , Data2D [Style Lines, Title \"AAPL 200-day MA\", Color Black] [] (zip [-100,-101..] (take 2000 aaplMA))\n",
    "   ]"
   ]
  },
  {
   "cell_type": "code",
   "execution_count": 27,
   "metadata": {
    "collapsed": false
   },
   "outputs": [
    {
     "data": {
      "text/plain": [
       "True"
      ]
     },
     "metadata": {},
     "output_type": "display_data"
    }
   ],
   "source": [
    "plot (PNG \"adjcloseWith200DayMA.png\")\n",
    "   [ Data2D [Style Lines, Title \"AAPL Adj. Close\", Color Blue] [] (zip [0,-1..] (take 2000 aapl))\n",
    "   , Data2D [Style Lines, Title \"AAPL 200-day MA\", Color Black] [] (zip [-100,-101..] (take 2000 aaplMA))\n",
    "   ]"
   ]
  },
  {
   "cell_type": "code",
   "execution_count": 36,
   "metadata": {
    "collapsed": true
   },
   "outputs": [],
   "source": [
    "\n",
    "googlRaw <- quickQuery db \"SELECT adjclose FROM googl\" []\n",
    "msftRaw <- quickQuery db \"SELECT adjclose FROM msft\" []\n",
    "googl = map (fromSql . head) googlRaw :: [Double]\n",
    "msft = map (fromSql . head) msftRaw :: [Double]"
   ]
  },
  {
   "cell_type": "code",
   "execution_count": 37,
   "metadata": {
    "collapsed": true
   },
   "outputs": [],
   "source": [
    "aapl252 = take 252 aapl"
   ]
  },
  {
   "cell_type": "code",
   "execution_count": 38,
   "metadata": {
    "collapsed": true
   },
   "outputs": [],
   "source": [
    "msft252 = take 252 msft"
   ]
  },
  {
   "cell_type": "code",
   "execution_count": 39,
   "metadata": {
    "collapsed": true
   },
   "outputs": [],
   "source": [
    "googl252 = take 252 googl"
   ]
  },
  {
   "cell_type": "code",
   "execution_count": 40,
   "metadata": {
    "collapsed": false
   },
   "outputs": [
    {
     "data": {
      "text/plain": [
       "True"
      ]
     },
     "metadata": {},
     "output_type": "display_data"
    }
   ],
   "source": [
    "plot X11\n",
    "    [ Data2D [Style Lines, Title \"AAPL\"] [] (zip [0,-1..] aapl252)\n",
    "    , Data2D [Style Lines, Title \"MSFT\"] [] (zip [0,-1..] msft252)\n",
    "    , Data2D [Style Lines, Title \"GOOGL\"] [] (zip [0,-1..] googl252)\n",
    "    ]"
   ]
  },
  {
   "cell_type": "code",
   "execution_count": 41,
   "metadata": {
    "collapsed": true
   },
   "outputs": [],
   "source": [
    "\n",
    "rescale :: [Double] -> [Double]\n",
    "rescale xs = map (\\x -> (x - lead)/(diffxs)) xs\n",
    "  where\n",
    "    lead = last xs\n",
    "    maxxs = maximum xs\n",
    "    minxs = minimum xs\n",
    "    diffxs = maxxs - minxs"
   ]
  },
  {
   "cell_type": "code",
   "execution_count": 43,
   "metadata": {
    "collapsed": false
   },
   "outputs": [
    {
     "data": {
      "text/plain": [
       "True"
      ]
     },
     "metadata": {},
     "output_type": "display_data"
    }
   ],
   "source": [
    "plot X11\n",
    "    [ Data2D [Style Lines, Title \"AAPL\"] [] (zip [0,-1..] (rescale aapl252))\n",
    "    , Data2D [Style Lines, Title \"MSFT\"] [] (zip [0,-1..] (rescale msft252))\n",
    "    , Data2D [Style Lines, Title \"GOOGL\"] [] (zip [0,-1..] (rescale googl252))\n",
    "    ]"
   ]
  },
  {
   "cell_type": "code",
   "execution_count": null,
   "metadata": {
    "collapsed": true
   },
   "outputs": [],
   "source": []
  }
 ],
 "metadata": {
  "kernelspec": {
   "display_name": "Haskell",
   "language": "haskell",
   "name": "haskell"
  },
  "language_info": {
   "codemirror_mode": "ihaskell",
   "file_extension": ".hs",
   "name": "haskell",
   "version": "7.6.3"
  }
 },
 "nbformat": 4,
 "nbformat_minor": 0
}
