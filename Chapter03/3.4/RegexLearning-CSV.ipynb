{
 "cells": [
  {
   "cell_type": "code",
   "execution_count": 1,
   "metadata": {
    "collapsed": true
   },
   "outputs": [],
   "source": [
    ":load DescriptiveStats\n",
    ":load MyCSV"
   ]
  },
  {
   "cell_type": "code",
   "execution_count": 2,
   "metadata": {
    "collapsed": true
   },
   "outputs": [],
   "source": [
    "import Text.CSV\n",
    "import Data.Maybe\n",
    "import Text.Regex.Posix\n",
    "import DescriptiveStats\n",
    "import MyCSV"
   ]
  },
  {
   "cell_type": "code",
   "execution_count": 3,
   "metadata": {
    "collapsed": true
   },
   "outputs": [],
   "source": [
    "baseball <- parseCSVFromFile \"../data/GL2015.TXT\""
   ]
  },
  {
   "cell_type": "code",
   "execution_count": 4,
   "metadata": {
    "collapsed": true
   },
   "outputs": [],
   "source": [
    "gameDates = getIndex baseball 0"
   ]
  },
  {
   "cell_type": "code",
   "execution_count": 5,
   "metadata": {
    "collapsed": false
   },
   "outputs": [
    {
     "data": {
      "text/plain": [
       "\"20150405\""
      ]
     },
     "metadata": {},
     "output_type": "display_data"
    }
   ],
   "source": [
    "head gameDates"
   ]
  },
  {
   "cell_type": "code",
   "execution_count": 6,
   "metadata": {
    "collapsed": true
   },
   "outputs": [],
   "source": [
    "marchDates = map (=~ \"....04..\") gameDates :: [Bool]"
   ]
  },
  {
   "cell_type": "code",
   "execution_count": 7,
   "metadata": {
    "collapsed": true
   },
   "outputs": [],
   "source": [
    "awayRuns = readIndex baseball 9 :: [Integer]"
   ]
  },
  {
   "cell_type": "code",
   "execution_count": 8,
   "metadata": {
    "collapsed": false
   },
   "outputs": [
    {
     "data": {
      "text/plain": [
       "2429"
      ]
     },
     "metadata": {},
     "output_type": "display_data"
    }
   ],
   "source": [
    "length marchDates"
   ]
  },
  {
   "cell_type": "code",
   "execution_count": 9,
   "metadata": {
    "collapsed": false
   },
   "outputs": [
    {
     "data": {
      "text/plain": [
       "2429"
      ]
     },
     "metadata": {},
     "output_type": "display_data"
    }
   ],
   "source": [
    "length awayRuns"
   ]
  },
  {
   "cell_type": "code",
   "execution_count": 10,
   "metadata": {
    "collapsed": false
   },
   "outputs": [
    {
     "data": {
      "text/plain": [
       "[(True,3),(True,0),(True,0),(True,1),(True,6),(True,0),(True,1),(True,6),(True,5),(True,2),(True,3),(True,2),(True,10),(True,8),(True,3),(True,3),(True,2),(True,6),(True,6),(True,7),(True,12),(True,5),(True,0),(True,2),(True,5),(True,3),(True,0),(True,5),(True,0),(True,5),(True,0),(True,4),(True,4),(True,2),(True,5),(True,2),(True,1),(True,1),(True,5),(True,1),(True,6),(True,10),(True,2),(True,6),(True,1),(True,6),(True,4),(True,12),(True,6),(True,8),(True,6),(True,0),(True,5),(True,3),(True,3),(True,4),(True,1),(True,9),(True,6),(True,1),(True,0),(True,6),(True,1),(True,4),(True,9),(True,8),(True,5),(True,2),(True,0),(True,3),(True,4),(True,9),(True,2),(True,0),(True,2),(True,2),(True,9),(True,10),(True,2),(True,8),(True,4),(True,8),(True,6),(True,7),(True,4),(True,7),(True,6),(True,8),(True,10),(True,4),(True,4),(True,6),(True,4),(True,8),(True,12),(True,6),(True,2),(True,2),(True,6),(True,5),(True,0),(True,4),(True,8),(True,2),(True,5),(True,3),(True,7),(True,4),(True,4),(True,2),(True,3),(True,8),(True,3),(True,5),(True,5),(True,2),(True,1),(True,4),(True,5),(True,10),(True,2),(True,1),(True,1),(True,10),(True,7),(True,6),(True,0),(True,2),(True,1),(True,1),(True,2),(True,4),(True,2),(True,5),(True,4),(True,5),(True,7),(True,0),(True,2),(True,2),(True,1),(True,6),(True,4),(True,2),(True,3),(True,5),(True,8),(True,5),(True,3),(True,1),(True,3),(True,9),(True,1),(True,2),(True,4),(True,12),(True,0),(True,5),(True,4),(True,1),(True,9),(True,5),(True,6),(True,3),(True,4),(True,2),(True,1),(True,2),(True,5),(True,8),(True,1),(True,3),(True,2),(True,2),(True,10),(True,5),(True,5),(True,5),(True,0),(True,6),(True,2),(True,5),(True,1),(True,1),(True,6),(True,1),(True,3),(True,1),(True,1),(True,7),(True,14),(True,6),(True,5),(True,1),(True,6),(True,5),(True,5),(True,6),(True,1),(True,6),(True,7),(True,7),(True,16),(True,1),(True,3),(True,9),(True,2),(True,1),(True,9),(True,0),(True,13),(True,3),(True,2),(True,5),(True,2),(True,5),(True,4),(True,2),(True,2),(True,6),(True,3),(True,2),(True,7),(True,0),(True,3),(True,2),(True,1),(True,6),(True,1),(True,2),(True,3),(True,9),(True,4),(True,2),(True,4),(True,2),(True,7),(True,2),(True,13),(True,1),(True,5),(True,0),(True,3),(True,4),(True,7),(True,4),(True,2),(True,3),(True,0),(True,3),(True,1),(True,4),(True,1),(True,8),(True,9),(True,8),(True,2),(True,2),(True,5),(True,0),(True,5),(True,5),(True,11),(True,5),(True,7),(True,3),(True,6),(True,4),(True,7),(True,4),(True,1),(True,8),(True,5),(True,2),(True,3),(True,4),(True,1),(True,5),(True,6),(True,5),(True,1),(True,3),(True,5),(True,4),(True,0),(True,6),(True,3),(True,3),(True,9),(True,4),(True,11),(True,11),(True,2),(True,2),(True,2),(True,2),(True,5),(True,13),(True,2),(True,2),(True,2),(True,3),(True,14),(True,5),(True,2),(True,1),(True,5),(True,10),(True,3),(True,6),(True,5),(True,1),(True,13),(True,8),(True,8),(True,3),(True,3),(True,7),(True,2),(True,5),(True,2),(True,1),(True,2),(True,6),(True,5),(True,8),(True,3),(False,2),(False,3),(False,4),(False,3),(False,1),(False,0),(False,7),(False,3),(False,0),(False,0),(False,3),(False,0),(False,3),(False,2),(False,1),(False,0),(False,4),(False,11),(False,4),(False,2),(False,3),(False,7),(False,8),(False,6),(False,4),(False,0),(False,1),(False,2),(False,4),(False,1),(False,2),(False,8),(False,7),(False,6),(False,6),(False,3),(False,7),(False,0),(False,5),(False,0),(False,6),(False,1),(False,6),(False,0),(False,2),(False,3),(False,5),(False,2),(False,7),(False,1),(False,5),(False,3),(False,0),(False,9),(False,4),(False,4),(False,0),(False,2),(False,7),(False,3),(False,2),(False,6),(False,0),(False,8),(False,2),(False,7),(False,0),(False,4),(False,2),(False,3),(False,5),(False,6),(False,11),(False,10),(False,0),(False,1),(False,5),(False,13),(False,5),(False,3),(False,1),(False,3),(False,9),(False,6),(False,5),(False,3),(False,4),(False,4),(False,5),(False,3),(False,5),(False,0),(False,14),(False,2),(False,7),(False,1),(False,0),(False,9),(False,5),(False,4),(False,3),(False,2),(False,0),(False,6),(False,2),(False,7),(False,1),(False,8),(False,0),(False,2),(False,6),(False,10),(False,2),(False,7),(False,6),(False,6),(False,2),(False,2),(False,1),(False,6),(False,4),(False,3),(False,5),(False,6),(False,6),(False,1),(False,3),(False,2),(False,2),(False,2),(False,3),(False,2),(False,6),(False,1),(False,9),(False,2),(False,7),(False,3),(False,2),(False,4),(False,2),(False,5),(False,11),(False,2),(False,11),(False,3),(False,2),(False,3),(False,7),(False,4),(False,2),(False,10),(False,8),(False,1),(False,8),(False,2),(False,4),(False,2),(False,7),(False,6),(False,1),(False,3),(False,1),(False,4),(False,7),(False,1),(False,1),(False,0),(False,6),(False,3),(False,2),(False,4),(False,2),(False,2),(False,9),(False,1),(False,1),(False,5),(False,4),(False,2),(False,2),(False,1),(False,4),(False,2),(False,1),(False,6),(False,5),(False,3),(False,5),(False,2),(False,3),(False,3),(False,4),(False,1),(False,2),(False,7),(False,1),(False,8),(False,10),(False,10),(False,4),(False,5),(False,7),(False,3),(False,10),(False,10),(False,6),(False,5),(False,5),(False,4),(False,4),(False,4),(False,10),(False,1),(False,11),(False,7),(False,5),(False,1),(False,5),(False,4),(False,4),(False,0),(False,2),(False,0),(False,11),(False,7),(False,0),(False,1),(False,3),(False,9),(False,0),(False,6),(False,1),(False,0),(False,10),(False,1),(False,1),(False,3),(False,2),(False,6),(False,4),(False,3),(False,1),(False,4),(False,3),(False,3),(False,8),(False,4),(False,0),(False,3),(False,5),(False,5),(False,4),(False,10),(False,8),(False,3),(False,0),(False,6),(False,4),(False,2),(False,4),(False,2),(False,1),(False,1),(False,4),(False,1),(False,4),(False,6),(False,9),(False,4),(False,3),(False,0),(False,2),(False,4),(False,3),(False,5),(False,5),(False,0),(False,4),(False,1),(False,3),(False,7),(False,0),(False,3),(False,0),(False,12),(False,2),(False,3),(False,2),(False,0),(False,10),(False,2),(False,4),(False,4),(False,11),(False,11),(False,1),(False,8),(False,1),(False,1),(False,3),(False,4),(False,1),(False,3),(False,2),(False,15),(False,5),(False,3),(False,9),(False,2),(False,10),(False,3),(False,0),(False,0),(False,2),(False,8),(False,1),(False,8),(False,2),(False,10),(False,6),(False,5),(False,7),(False,2),(False,3),(False,1),(False,2),(False,11),(False,2),(False,1),(False,1),(False,3),(False,3),(False,10),(False,2),(False,1),(False,0),(False,4),(False,0),(False,2),(False,5),(False,3),(False,8),(False,3),(False,2),(False,2),(False,4),(False,4),(False,4),(False,1),(False,1),(False,1),(False,7),(False,9),(False,2),(False,1),(False,0),(False,6),(False,4),(False,1),(False,4),(False,5),(False,4),(False,3),(False,4),(False,2),(False,3),(False,3),(False,5),(False,3),(False,6),(False,3),(False,3),(False,0),(False,2),(False,3),(False,2),(False,3),(False,3),(False,4),(False,5),(False,5),(False,11),(False,0),(False,0),(False,1),(False,6),(False,6),(False,2),(False,1),(False,4),(False,8),(False,2),(False,7),(False,4),(False,4),(False,2),(False,2),(False,0),(False,6),(False,3),(False,0),(False,2),(False,5),(False,4),(False,0),(False,5),(False,7),(False,9),(False,5),(False,5),(False,8),(False,5),(False,2),(False,9),(False,6),(False,5),(False,0),(False,6),(False,3),(False,1),(False,2),(False,6),(False,3),(False,4),(False,1),(False,7),(False,1),(False,3),(False,2),(False,7),(False,8),(False,11),(False,5),(False,7),(False,4),(False,1),(False,6),(False,0),(False,5),(False,4),(False,2),(False,5),(False,2),(False,6),(False,3),(False,9),(False,2),(False,4),(False,2),(False,7),(False,0),(False,0),(False,7),(False,6),(False,3),(False,2),(False,6),(False,1),(False,2),(False,3),(False,9),(False,8),(False,6),(False,3),(False,4),(False,3),(False,5),(False,4),(False,8),(False,8),(False,7),(False,3),(False,6),(False,2),(False,1),(False,6),(False,7),(False,6),(False,2),(False,2),(False,3),(False,5),(False,4),(False,10),(False,7),(False,1),(False,2),(False,2),(False,10),(False,6),(False,6),(False,2),(False,5),(False,5),(False,2),(False,7),(False,1),(False,4),(False,4),(False,2),(False,1),(False,2),(False,1),(False,4),(False,9),(False,5),(False,0),(False,7),(False,4),(False,4),(False,6),(False,7),(False,3),(False,0),(False,2),(False,3),(False,6),(False,6),(False,3),(False,0),(False,3),(False,4),(False,4),(False,6),(False,1),(False,3),(False,3),(False,5),(False,4),(False,3),(False,3),(False,2),(False,0),(False,2),(False,3),(False,0),(False,2),(False,1),(False,2),(False,8),(False,3),(False,5),(False,2),(False,3),(False,1),(False,5),(False,4),(False,2),(False,1),(False,9),(False,12),(False,7),(False,5),(False,4),(False,2),(False,2),(False,1),(False,2),(False,4),(False,6),(False,8),(False,0),(False,5),(False,0),(False,0),(False,6),(False,6),(False,3),(False,0),(False,5),(False,4),(False,4),(False,3),(False,13),(False,0),(False,0),(False,5),(False,2),(False,5),(False,1),(False,4),(False,3),(False,0),(False,4),(False,1),(False,0),(False,0),(False,4),(False,5),(False,5),(False,8),(False,4),(False,7),(False,3),(False,1),(False,7),(False,5),(False,3),(False,1),(False,4),(False,2),(False,8),(False,5),(False,13),(False,1),(False,0),(False,1),(False,4),(False,1),(False,4),(False,4),(False,8),(False,0),(False,4),(False,4),(False,7),(False,0),(False,4),(False,0),(False,3),(False,1),(False,1),(False,1),(False,8),(False,3),(False,0),(False,9),(False,5),(False,2),(False,1),(False,3),(False,4),(False,5),(False,5),(False,16),(False,2),(False,6),(False,2),(False,7),(False,2),(False,0),(False,6),(False,2),(False,2),(False,3),(False,17),(False,2),(False,1),(False,1),(False,2),(False,0),(False,0),(False,2),(False,2),(False,4),(False,8),(False,5),(False,6),(False,5),(False,3),(False,3),(False,2),(False,1),(False,4),(False,3),(False,7),(False,1),(False,7),(False,5),(False,8),(False,0),(False,1),(False,5),(False,2),(False,4),(False,7),(False,2),(False,2),(False,12),(False,2),(False,4),(False,2),(False,1),(False,0),(False,9),(False,9),(False,12),(False,1),(False,2),(False,4),(False,4),(False,4),(False,3),(False,1),(False,3),(False,5),(False,8),(False,4),(False,5),(False,1),(False,6),(False,10),(False,0),(False,2),(False,0),(False,13),(False,8),(False,12),(False,2),(False,6),(False,13),(False,2),(False,0),(False,2),(False,4),(False,2),(False,2),(False,2),(False,3),(False,8),(False,2),(False,11),(False,4),(False,8),(False,2),(False,13),(False,6),(False,7),(False,6),(False,11),(False,0),(False,3),(False,8),(False,0),(False,5),(False,4),(False,2),(False,6),(False,3),(False,1),(False,1),(False,1),(False,2),(False,1),(False,2),(False,8),(False,1),(False,8),(False,5),(False,8),(False,6),(False,1),(False,5),(False,0),(False,1),(False,8),(False,8),(False,0),(False,6),(False,4),(False,4),(False,5),(False,2),(False,5),(False,8),(False,0),(False,3),(False,3),(False,4),(False,3),(False,5),(False,4),(False,2),(False,7),(False,4),(False,1),(False,5),(False,2),(False,2),(False,8),(False,2),(False,2),(False,9),(False,3),(False,1),(False,4),(False,2),(False,5),(False,1),(False,4),(False,2),(False,5),(False,1),(False,2),(False,0),(False,0),(False,4),(False,1),(False,5),(False,5),(False,2),(False,2),(False,3),(False,2),(False,3),(False,5),(False,2),(False,6),(False,3),(False,1),(False,1),(False,8),(False,1),(False,1),(False,7),(False,3),(False,6),(False,7),(False,7),(False,1),(False,8),(False,5),(False,0),(False,2),(False,6),(False,4),(False,6),(False,6),(False,8),(False,3),(False,1),(False,4),(False,5),(False,2),(False,3),(False,2),(False,9),(False,5),(False,1),(False,8),(False,2),(False,4),(False,1),(False,1),(False,5),(False,2),(False,9),(False,7),(False,7),(False,2),(False,8),(False,2),(False,0),(False,5),(False,12),(False,1),(False,1),(False,4),(False,6),(False,8),(False,5),(False,12),(False,0),(False,6),(False,2),(False,5),(False,9),(False,8),(False,3),(False,1),(False,2),(False,12),(False,2),(False,5),(False,2),(False,1),(False,1),(False,2),(False,3),(False,5),(False,2),(False,0),(False,13),(False,3),(False,5),(False,2),(False,7),(False,3),(False,0),(False,1),(False,3),(False,4),(False,9),(False,10),(False,2),(False,8),(False,2),(False,12),(False,6),(False,4),(False,0),(False,6),(False,8),(False,3),(False,1),(False,1),(False,2),(False,9),(False,2),(False,12),(False,6),(False,7),(False,5),(False,1),(False,3),(False,3),(False,3),(False,2),(False,0),(False,5),(False,1),(False,3),(False,4),(False,6),(False,4),(False,4),(False,3),(False,10),(False,7),(False,4),(False,2),(False,0),(False,5),(False,3),(False,6),(False,2),(False,7),(False,3),(False,4),(False,5),(False,7),(False,6),(False,3),(False,0),(False,5),(False,2),(False,4),(False,0),(False,1),(False,3),(False,4),(False,2),(False,2),(False,3),(False,0),(False,0),(False,4),(False,2),(False,5),(False,1),(False,0),(False,6),(False,7),(False,1),(False,3),(False,1),(False,3),(False,2),(False,1),(False,2),(False,2),(False,2),(False,7),(False,3),(False,5),(False,6),(False,5),(False,0),(False,0),(False,6),(False,5),(False,2),(False,7),(False,3),(False,2),(False,5),(False,5),(False,3),(False,8),(False,2),(False,10),(False,1),(False,10),(False,3),(False,2),(False,1),(False,3),(False,3),(False,1),(False,3),(False,5),(False,2),(False,0),(False,4),(False,0),(False,3),(False,2),(False,3),(False,5),(False,2),(False,6),(False,2),(False,1),(False,1),(False,3),(False,2),(False,2),(False,3),(False,0),(False,7),(False,3),(False,7),(False,4),(False,2),(False,3),(False,8),(False,4),(False,9),(False,5),(False,1),(False,4),(False,2),(False,4),(False,4),(False,9),(False,0),(False,1),(False,1),(False,0),(False,2),(False,4),(False,5),(False,1),(False,7),(False,3),(False,5),(False,1),(False,3),(False,4),(False,10),(False,1),(False,5),(False,4),(False,7),(False,3),(False,2),(False,2),(False,0),(False,8),(False,11),(False,3),(False,1),(False,2),(False,7),(False,3),(False,3),(False,5),(False,9),(False,1),(False,1),(False,9),(False,7),(False,2),(False,3),(False,4),(False,2),(False,1),(False,3),(False,3),(False,5),(False,3),(False,1),(False,6),(False,10),(False,7),(False,4),(False,7),(False,3),(False,3),(False,8),(False,3),(False,4),(False,3),(False,5),(False,3),(False,3),(False,3),(False,4),(False,3),(False,4),(False,1),(False,6),(False,4),(False,1),(False,2),(False,1),(False,2),(False,5),(False,5),(False,7),(False,5),(False,1),(False,3),(False,2),(False,7),(False,5),(False,10),(False,1),(False,8),(False,8),(False,5),(False,0),(False,5),(False,5),(False,2),(False,9),(False,1),(False,1),(False,0),(False,7),(False,1),(False,2),(False,1),(False,7),(False,5),(False,5),(False,0),(False,11),(False,7),(False,2),(False,1),(False,2),(False,3),(False,3),(False,1),(False,10),(False,9),(False,4),(False,2),(False,6),(False,8),(False,2),(False,1),(False,3),(False,9),(False,2),(False,5),(False,8),(False,8),(False,2),(False,21),(False,3),(False,7),(False,2),(False,1),(False,0),(False,5),(False,4),(False,0),(False,9),(False,1),(False,3),(False,10),(False,8),(False,2),(False,2),(False,2),(False,2),(False,7),(False,7),(False,7),(False,0),(False,1),(False,9),(False,2),(False,0),(False,5),(False,3),(False,6),(False,2),(False,5),(False,1),(False,5),(False,8),(False,1),(False,8),(False,7),(False,5),(False,13),(False,6),(False,6),(False,2),(False,3),(False,6),(False,5),(False,3),(False,8),(False,4),(False,1),(False,3),(False,0),(False,2),(False,7),(False,2),(False,2),(False,2),(False,1),(False,9),(False,7),(False,3),(False,1),(False,5),(False,4),(False,2),(False,2),(False,6),(False,6),(False,4),(False,12),(False,1),(False,4),(False,1),(False,1),(False,2),(False,3),(False,3),(False,2),(False,4),(False,2),(False,6),(False,2),(False,4),(False,5),(False,9),(False,9),(False,1),(False,8),(False,8),(False,12),(False,13),(False,6),(False,2),(False,11),(False,5),(False,3),(False,0),(False,3),(False,1),(False,8),(False,2),(False,10),(False,5),(False,1),(False,2),(False,5),(False,4),(False,3),(False,5),(False,1),(False,2),(False,7),(False,3),(False,7),(False,6),(False,4),(False,5),(False,8),(False,5),(False,4),(False,5),(False,11),(False,6),(False,1),(False,5),(False,3),(False,8),(False,4),(False,3),(False,1),(False,10),(False,3),(False,4),(False,10),(False,7),(False,2),(False,2),(False,1),(False,3),(False,4),(False,0),(False,3),(False,3),(False,6),(False,4),(False,4),(False,5),(False,5),(False,4),(False,6),(False,6),(False,6),(False,1),(False,11),(False,4),(False,4),(False,2),(False,6),(False,3),(False,5),(False,4),(False,1),(False,4),(False,1),(False,7),(False,4),(False,2),(False,4),(False,2),(False,3),(False,3),(False,4),(False,0),(False,4),(False,6),(False,5),(False,6),(False,2),(False,0),(False,3),(False,3),(False,8),(False,2),(False,1),(False,0),(False,4),(False,1),(False,2),(False,5),(False,0),(False,2),(False,1),(False,3),(False,0),(False,4),(False,0),(False,6),(False,1),(False,3),(False,2),(False,1),(False,7),(False,1),(False,0),(False,6),(False,3),(False,7),(False,2),(False,0),(False,6),(False,0),(False,7),(False,2),(False,2),(False,8),(False,7),(False,6),(False,2),(False,2),(False,10),(False,3),(False,1),(False,10),(False,6),(False,1),(False,6),(False,1),(False,1),(False,6),(False,3),(False,4),(False,2),(False,9),(False,3),(False,1),(False,3),(False,5),(False,1),(False,3),(False,10),(False,6),(False,4),(False,4),(False,1),(False,4),(False,4),(False,8),(False,7),(False,3),(False,2),(False,5),(False,6),(False,2),(False,2),(False,10),(False,1),(False,5),(False,3),(False,1),(False,3),(False,1),(False,1),(False,0),(False,1),(False,1),(False,8),(False,0),(False,6),(False,1),(False,2),(False,8),(False,9),(False,7),(False,3),(False,6),(False,4),(False,3),(False,1),(False,3),(False,5),(False,1),(False,2),(False,4),(False,4),(False,3),(False,10),(False,3),(False,15),(False,9),(False,8),(False,8),(False,0),(False,2),(False,0),(False,4),(False,4),(False,2),(False,3),(False,2),(False,2),(False,15),(False,4),(False,4),(False,7),(False,4),(False,1),(False,2),(False,3),(False,8),(False,15),(False,1),(False,0),(False,1),(False,3),(False,1),(False,5),(False,2),(False,7),(False,0),(False,9),(False,4),(False,2),(False,2),(False,0),(False,7),(False,2),(False,11),(False,3),(False,6),(False,14),(False,7),(False,6),(False,3),(False,10),(False,15),(False,3),(False,6),(False,5),(False,1),(False,2),(False,5),(False,6),(False,7),(False,11),(False,14),(False,4),(False,2),(False,0),(False,1),(False,12),(False,4),(False,8),(False,4),(False,2),(False,4),(False,2),(False,6),(False,3),(False,4),(False,5),(False,2),(False,2),(False,10),(False,5),(False,5),(False,3),(False,0),(False,11),(False,5),(False,3),(False,1),(False,5),(False,5),(False,16),(False,4),(False,6),(False,8),(False,2),(False,15),(False,5),(False,11),(False,6),(False,9),(False,5),(False,5),(False,2),(False,6),(False,8),(False,3),(False,3),(False,2),(False,0),(False,8),(False,6),(False,2),(False,5),(False,12),(False,3),(False,6),(False,7),(False,7),(False,9),(False,2),(False,6),(False,2),(False,2),(False,3),(False,4),(False,1),(False,5),(False,1),(False,2),(False,9),(False,1),(False,2),(False,2),(False,1),(False,0),(False,3),(False,1),(False,3),(False,4),(False,15),(False,1),(False,0),(False,6),(False,1),(False,3),(False,4),(False,4),(False,7),(False,3),(False,4),(False,6),(False,3),(False,1),(False,3),(False,3),(False,2),(False,12),(False,3),(False,3),(False,3),(False,6),(False,1),(False,5),(False,2),(False,5),(False,2),(False,0),(False,2),(False,7),(False,20),(False,2),(False,1),(False,4),(False,9),(False,5),(False,7),(False,4),(False,6),(False,3),(False,3),(False,5),(False,4),(False,4),(False,13),(False,4),(False,4),(False,1),(False,0),(False,5),(False,11),(False,3),(False,7),(False,6),(False,6),(False,6),(False,3),(False,7),(False,4),(False,6),(False,5),(False,1),(False,4),(False,14),(False,8),(False,5),(False,6),(False,13),(False,8),(False,1),(False,0),(False,9),(False,1),(False,7),(False,7),(False,4),(False,1),(False,4),(False,4),(False,4),(False,4),(False,7),(False,6),(False,3),(False,3),(False,7),(False,1),(False,2),(False,5),(False,8),(False,0),(False,12),(False,2),(False,11),(False,10),(False,5),(False,1),(False,5),(False,8),(False,9),(False,2),(False,2),(False,2),(False,0),(False,3),(False,6),(False,3),(False,8),(False,1),(False,0),(False,8),(False,7),(False,7),(False,7),(False,2),(False,1),(False,2),(False,0),(False,2),(False,4),(False,5),(False,7),(False,4),(False,3),(False,4),(False,4),(False,3),(False,7),(False,3),(False,5),(False,7),(False,4),(False,7),(False,4),(False,3),(False,4),(False,6),(False,6),(False,9),(False,3),(False,1),(False,1),(False,9),(False,7),(False,6),(False,9),(False,8),(False,6),(False,5),(False,4),(False,7),(False,2),(False,2),(False,0),(False,9),(False,6),(False,7),(False,4),(False,0),(False,1),(False,8),(False,8),(False,2),(False,4),(False,6),(False,8),(False,3),(False,5),(False,11),(False,0),(False,1),(False,5),(False,2),(False,8),(False,4),(False,3),(False,5),(False,5),(False,0),(False,7),(False,0),(False,6),(False,4),(False,2),(False,8),(False,6),(False,11),(False,4),(False,4),(False,0),(False,4),(False,5),(False,2),(False,1),(False,5),(False,7),(False,3),(False,1),(False,2),(False,14),(False,2),(False,9),(False,10),(False,2),(False,10),(False,5),(False,9),(False,6),(False,1),(False,0),(False,5),(False,2),(False,0),(False,5),(False,2),(False,7),(False,2),(False,9),(False,0),(False,3),(False,2),(False,4),(False,4),(False,10),(False,9),(False,5),(False,4),(False,6),(False,3),(False,0),(False,7),(False,3),(False,1),(False,1),(False,4),(False,3),(False,10),(False,1),(False,3),(False,8),(False,3),(False,5),(False,17),(False,2),(False,5),(False,4),(False,3),(False,5),(False,4),(False,2),(False,5),(False,3),(False,9),(False,4),(False,4),(False,2),(False,9),(False,10),(False,4),(False,1),(False,7),(False,1),(False,3),(False,3),(False,4),(False,9),(False,0),(False,5),(False,6),(False,12),(False,3),(False,3),(False,4),(False,8),(False,11),(False,4),(False,2),(False,5),(False,6),(False,9),(False,6),(False,1),(False,4),(False,4),(False,6),(False,3),(False,1),(False,1),(False,3),(False,4),(False,2),(False,5),(False,1),(False,2),(False,4),(False,4),(False,5),(False,6),(False,4),(False,5),(False,2),(False,1),(False,7),(False,1),(False,4),(False,2),(False,3),(False,9),(False,5),(False,6),(False,2),(False,3),(False,10),(False,1),(False,1),(False,6),(False,9),(False,4),(False,1),(False,4),(False,10),(False,4),(False,4),(False,11),(False,1),(False,3),(False,7),(False,2),(False,3),(False,3),(False,2),(False,5),(False,9),(False,8),(False,0),(False,1),(False,5),(False,1),(False,4),(False,11),(False,1),(False,8),(False,6),(False,0),(False,6),(False,8),(False,6),(False,6),(False,4),(False,1),(False,4),(False,6),(False,4),(False,6),(False,3),(False,2),(False,10),(False,0),(False,4),(False,13),(False,1),(False,3),(False,6),(False,4),(False,2),(False,4),(False,4),(False,4),(False,6),(False,2),(False,8),(False,6),(False,5),(False,3),(False,0),(False,4),(False,3),(False,5),(False,4),(False,0),(False,4),(False,6),(False,6),(False,5),(False,4),(False,3),(False,3),(False,12),(False,4),(False,11),(False,6),(False,4),(False,8),(False,2),(False,0),(False,6),(False,7),(False,9),(False,1),(False,14),(False,8),(False,4),(False,10),(False,6),(False,2),(False,0),(False,1),(False,1),(False,2),(False,0),(False,7),(False,2),(False,0),(False,1),(False,5),(False,4),(False,0),(False,8),(False,5),(False,5),(False,4),(False,8),(False,12),(False,4),(False,4),(False,4),(False,5),(False,3),(False,7),(False,0),(False,3),(False,2),(False,1),(False,1),(False,2),(False,10),(False,4),(False,2),(False,6),(False,3),(False,1),(False,4),(False,3),(False,4),(False,8),(False,8),(False,15),(False,1),(False,5),(False,7),(False,2),(False,9),(False,7),(False,4),(False,2),(False,1),(False,0),(False,10),(False,5),(False,2),(False,11),(False,5),(False,0),(False,4),(False,6),(False,4),(False,1),(False,1),(False,3),(False,6),(False,3),(False,5),(False,0),(False,1),(False,3),(False,1),(False,2),(False,3),(False,4),(False,8),(False,2),(False,21),(False,0),(False,2),(False,6),(False,4),(False,9),(False,2),(False,3),(False,3),(False,0),(False,5),(False,7),(False,3),(False,11),(False,6),(False,1),(False,1),(False,3),(False,2),(False,7),(False,5),(False,3),(False,2),(False,4),(False,6),(False,1),(False,6),(False,2),(False,3),(False,2),(False,3),(False,0),(False,0),(False,3),(False,3),(False,0),(False,2),(False,0),(False,7)]"
      ]
     },
     "metadata": {},
     "output_type": "display_data"
    }
   ],
   "source": [
    "zip marchDates awayRuns"
   ]
  },
  {
   "cell_type": "code",
   "execution_count": 11,
   "metadata": {
    "collapsed": false
   },
   "outputs": [
    {
     "data": {
      "text/plain": [
       "[(True,3),(True,0),(True,0),(True,1),(True,6),(True,0),(True,1),(True,6),(True,5),(True,2),(True,3),(True,2),(True,10),(True,8),(True,3),(True,3),(True,2),(True,6),(True,6),(True,7),(True,12),(True,5),(True,0),(True,2),(True,5),(True,3),(True,0),(True,5),(True,0),(True,5),(True,0),(True,4),(True,4),(True,2),(True,5),(True,2),(True,1),(True,1),(True,5),(True,1),(True,6),(True,10),(True,2),(True,6),(True,1),(True,6),(True,4),(True,12),(True,6),(True,8),(True,6),(True,0),(True,5),(True,3),(True,3),(True,4),(True,1),(True,9),(True,6),(True,1),(True,0),(True,6),(True,1),(True,4),(True,9),(True,8),(True,5),(True,2),(True,0),(True,3),(True,4),(True,9),(True,2),(True,0),(True,2),(True,2),(True,9),(True,10),(True,2),(True,8),(True,4),(True,8),(True,6),(True,7),(True,4),(True,7),(True,6),(True,8),(True,10),(True,4),(True,4),(True,6),(True,4),(True,8),(True,12),(True,6),(True,2),(True,2),(True,6),(True,5),(True,0),(True,4),(True,8),(True,2),(True,5),(True,3),(True,7),(True,4),(True,4),(True,2),(True,3),(True,8),(True,3),(True,5),(True,5),(True,2),(True,1),(True,4),(True,5),(True,10),(True,2),(True,1),(True,1),(True,10),(True,7),(True,6),(True,0),(True,2),(True,1),(True,1),(True,2),(True,4),(True,2),(True,5),(True,4),(True,5),(True,7),(True,0),(True,2),(True,2),(True,1),(True,6),(True,4),(True,2),(True,3),(True,5),(True,8),(True,5),(True,3),(True,1),(True,3),(True,9),(True,1),(True,2),(True,4),(True,12),(True,0),(True,5),(True,4),(True,1),(True,9),(True,5),(True,6),(True,3),(True,4),(True,2),(True,1),(True,2),(True,5),(True,8),(True,1),(True,3),(True,2),(True,2),(True,10),(True,5),(True,5),(True,5),(True,0),(True,6),(True,2),(True,5),(True,1),(True,1),(True,6),(True,1),(True,3),(True,1),(True,1),(True,7),(True,14),(True,6),(True,5),(True,1),(True,6),(True,5),(True,5),(True,6),(True,1),(True,6),(True,7),(True,7),(True,16),(True,1),(True,3),(True,9),(True,2),(True,1),(True,9),(True,0),(True,13),(True,3),(True,2),(True,5),(True,2),(True,5),(True,4),(True,2),(True,2),(True,6),(True,3),(True,2),(True,7),(True,0),(True,3),(True,2),(True,1),(True,6),(True,1),(True,2),(True,3),(True,9),(True,4),(True,2),(True,4),(True,2),(True,7),(True,2),(True,13),(True,1),(True,5),(True,0),(True,3),(True,4),(True,7),(True,4),(True,2),(True,3),(True,0),(True,3),(True,1),(True,4),(True,1),(True,8),(True,9),(True,8),(True,2),(True,2),(True,5),(True,0),(True,5),(True,5),(True,11),(True,5),(True,7),(True,3),(True,6),(True,4),(True,7),(True,4),(True,1),(True,8),(True,5),(True,2),(True,3),(True,4),(True,1),(True,5),(True,6),(True,5),(True,1),(True,3),(True,5),(True,4),(True,0),(True,6),(True,3),(True,3),(True,9),(True,4),(True,11),(True,11),(True,2),(True,2),(True,2),(True,2),(True,5),(True,13),(True,2),(True,2),(True,2),(True,3),(True,14),(True,5),(True,2),(True,1),(True,5),(True,10),(True,3),(True,6),(True,5),(True,1),(True,13),(True,8),(True,8),(True,3),(True,3),(True,7),(True,2),(True,5),(True,2),(True,1),(True,2),(True,6),(True,5),(True,8),(True,3)]"
      ]
     },
     "metadata": {},
     "output_type": "display_data"
    }
   ],
   "source": [
    "filter fst (zip marchDates awayRuns)"
   ]
  },
  {
   "cell_type": "code",
   "execution_count": 12,
   "metadata": {
    "collapsed": false
   },
   "outputs": [
    {
     "data": {
      "text/plain": [
       "[3,0,0,1,6,0,1,6,5,2,3,2,10,8,3,3,2,6,6,7,12,5,0,2,5,3,0,5,0,5,0,4,4,2,5,2,1,1,5,1,6,10,2,6,1,6,4,12,6,8,6,0,5,3,3,4,1,9,6,1,0,6,1,4,9,8,5,2,0,3,4,9,2,0,2,2,9,10,2,8,4,8,6,7,4,7,6,8,10,4,4,6,4,8,12,6,2,2,6,5,0,4,8,2,5,3,7,4,4,2,3,8,3,5,5,2,1,4,5,10,2,1,1,10,7,6,0,2,1,1,2,4,2,5,4,5,7,0,2,2,1,6,4,2,3,5,8,5,3,1,3,9,1,2,4,12,0,5,4,1,9,5,6,3,4,2,1,2,5,8,1,3,2,2,10,5,5,5,0,6,2,5,1,1,6,1,3,1,1,7,14,6,5,1,6,5,5,6,1,6,7,7,16,1,3,9,2,1,9,0,13,3,2,5,2,5,4,2,2,6,3,2,7,0,3,2,1,6,1,2,3,9,4,2,4,2,7,2,13,1,5,0,3,4,7,4,2,3,0,3,1,4,1,8,9,8,2,2,5,0,5,5,11,5,7,3,6,4,7,4,1,8,5,2,3,4,1,5,6,5,1,3,5,4,0,6,3,3,9,4,11,11,2,2,2,2,5,13,2,2,2,3,14,5,2,1,5,10,3,6,5,1,13,8,8,3,3,7,2,5,2,1,2,6,5,8,3]"
      ]
     },
     "metadata": {},
     "output_type": "display_data"
    }
   ],
   "source": [
    "map snd (filter fst (zip marchDates awayRuns))"
   ]
  },
  {
   "cell_type": "code",
   "execution_count": 13,
   "metadata": {
    "collapsed": false
   },
   "outputs": [
    {
     "data": {
      "text/plain": [
       "Just 4.2782874617737"
      ]
     },
     "metadata": {},
     "output_type": "display_data"
    }
   ],
   "source": [
    "mean $ map snd (filter fst (zip marchDates awayRuns))"
   ]
  },
  {
   "cell_type": "code",
   "execution_count": null,
   "metadata": {
    "collapsed": true
   },
   "outputs": [],
   "source": []
  }
 ],
 "metadata": {
  "kernelspec": {
   "display_name": "Haskell",
   "language": "haskell",
   "name": "haskell"
  },
  "language_info": {
   "codemirror_mode": "ihaskell",
   "file_extension": ".hs",
   "name": "haskell",
   "version": "7.6.3"
  }
 },
 "nbformat": 4,
 "nbformat_minor": 0
}
