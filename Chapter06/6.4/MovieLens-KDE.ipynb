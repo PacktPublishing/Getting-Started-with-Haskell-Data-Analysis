{
 "cells": [
  {
   "cell_type": "code",
   "execution_count": 1,
   "metadata": {
    "collapsed": true
   },
   "outputs": [],
   "source": [
    ":load DescriptiveStats"
   ]
  },
  {
   "cell_type": "code",
   "execution_count": 33,
   "metadata": {
    "collapsed": true
   },
   "outputs": [],
   "source": [
    "import Data.List\n",
    "import Data.Maybe\n",
    "import Database.HDBC\n",
    "import Database.HDBC.Sqlite3\n",
    "import Graphics.EasyPlot\n",
    "import DescriptiveStats"
   ]
  },
  {
   "cell_type": "code",
   "execution_count": 3,
   "metadata": {
    "collapsed": false
   },
   "outputs": [],
   "source": [
    "db <- connectSqlite3 \"../data/movies.sqlite3\""
   ]
  },
  {
   "cell_type": "code",
   "execution_count": 4,
   "metadata": {
    "collapsed": false
   },
   "outputs": [
    {
     "data": {
      "text/plain": [
       "[[SqlDouble 3.52986]]"
      ]
     },
     "metadata": {},
     "output_type": "display_data"
    }
   ],
   "source": [
    "quickQuery db \"SELECT avg(rating) FROM data\" []"
   ]
  },
  {
   "cell_type": "code",
   "execution_count": 5,
   "metadata": {
    "collapsed": false
   },
   "outputs": [
    {
     "data": {
      "text/html": [
       "<style>/* Styles used for the Hoogle display in the pager */\n",
       ".hoogle-doc {\n",
       "display: block;\n",
       "padding-bottom: 1.3em;\n",
       "padding-left: 0.4em;\n",
       "}\n",
       ".hoogle-code {\n",
       "display: block;\n",
       "font-family: monospace;\n",
       "white-space: pre;\n",
       "}\n",
       ".hoogle-text {\n",
       "display: block;\n",
       "}\n",
       ".hoogle-name {\n",
       "color: green;\n",
       "font-weight: bold;\n",
       "}\n",
       ".hoogle-head {\n",
       "font-weight: bold;\n",
       "}\n",
       ".hoogle-sub {\n",
       "display: block;\n",
       "margin-left: 0.4em;\n",
       "}\n",
       ".hoogle-package {\n",
       "font-weight: bold;\n",
       "font-style: italic;\n",
       "}\n",
       ".hoogle-module {\n",
       "font-weight: bold;\n",
       "}\n",
       ".hoogle-class {\n",
       "font-weight: bold;\n",
       "}\n",
       ".get-type {\n",
       "color: green;\n",
       "font-weight: bold;\n",
       "font-family: monospace;\n",
       "display: block;\n",
       "white-space: pre-wrap;\n",
       "}\n",
       ".show-type {\n",
       "color: green;\n",
       "font-weight: bold;\n",
       "font-family: monospace;\n",
       "margin-left: 1em;\n",
       "}\n",
       ".mono {\n",
       "font-family: monospace;\n",
       "display: block;\n",
       "}\n",
       ".err-msg {\n",
       "color: red;\n",
       "font-style: italic;\n",
       "font-family: monospace;\n",
       "white-space: pre;\n",
       "display: block;\n",
       "}\n",
       "#unshowable {\n",
       "color: red;\n",
       "font-weight: bold;\n",
       "}\n",
       ".err-msg.in.collapse {\n",
       "padding-top: 0.7em;\n",
       "}\n",
       ".highlight-code {\n",
       "white-space: pre;\n",
       "font-family: monospace;\n",
       "}\n",
       ".suggestion-warning { \n",
       "font-weight: bold;\n",
       "color: rgb(200, 130, 0);\n",
       "}\n",
       ".suggestion-error { \n",
       "font-weight: bold;\n",
       "color: red;\n",
       "}\n",
       ".suggestion-name {\n",
       "font-weight: bold;\n",
       "}\n",
       "</style><span class='err-msg'>SqlError {seState = \"\", seNativeError = 1, seErrorMsg = \"prepare 32: SELECT median(rating) FROM data: no such function: median\"}</span>"
      ],
      "text/plain": [
       "SqlError {seState = \"\", seNativeError = 1, seErrorMsg = \"prepare 32: SELECT median(rating) FROM data: no such function: median\"}"
      ]
     },
     "metadata": {},
     "output_type": "display_data"
    }
   ],
   "source": [
    "quickQuery db \"SELECT median(rating) FROM data\" []"
   ]
  },
  {
   "cell_type": "code",
   "execution_count": 6,
   "metadata": {
    "collapsed": false
   },
   "outputs": [
    {
     "data": {
      "text/html": [
       "<style>/* Styles used for the Hoogle display in the pager */\n",
       ".hoogle-doc {\n",
       "display: block;\n",
       "padding-bottom: 1.3em;\n",
       "padding-left: 0.4em;\n",
       "}\n",
       ".hoogle-code {\n",
       "display: block;\n",
       "font-family: monospace;\n",
       "white-space: pre;\n",
       "}\n",
       ".hoogle-text {\n",
       "display: block;\n",
       "}\n",
       ".hoogle-name {\n",
       "color: green;\n",
       "font-weight: bold;\n",
       "}\n",
       ".hoogle-head {\n",
       "font-weight: bold;\n",
       "}\n",
       ".hoogle-sub {\n",
       "display: block;\n",
       "margin-left: 0.4em;\n",
       "}\n",
       ".hoogle-package {\n",
       "font-weight: bold;\n",
       "font-style: italic;\n",
       "}\n",
       ".hoogle-module {\n",
       "font-weight: bold;\n",
       "}\n",
       ".hoogle-class {\n",
       "font-weight: bold;\n",
       "}\n",
       ".get-type {\n",
       "color: green;\n",
       "font-weight: bold;\n",
       "font-family: monospace;\n",
       "display: block;\n",
       "white-space: pre-wrap;\n",
       "}\n",
       ".show-type {\n",
       "color: green;\n",
       "font-weight: bold;\n",
       "font-family: monospace;\n",
       "margin-left: 1em;\n",
       "}\n",
       ".mono {\n",
       "font-family: monospace;\n",
       "display: block;\n",
       "}\n",
       ".err-msg {\n",
       "color: red;\n",
       "font-style: italic;\n",
       "font-family: monospace;\n",
       "white-space: pre;\n",
       "display: block;\n",
       "}\n",
       "#unshowable {\n",
       "color: red;\n",
       "font-weight: bold;\n",
       "}\n",
       ".err-msg.in.collapse {\n",
       "padding-top: 0.7em;\n",
       "}\n",
       ".highlight-code {\n",
       "white-space: pre;\n",
       "font-family: monospace;\n",
       "}\n",
       ".suggestion-warning { \n",
       "font-weight: bold;\n",
       "color: rgb(200, 130, 0);\n",
       "}\n",
       ".suggestion-error { \n",
       "font-weight: bold;\n",
       "color: red;\n",
       "}\n",
       ".suggestion-name {\n",
       "font-weight: bold;\n",
       "}\n",
       "</style><span class='err-msg'>SqlError {seState = \"\", seNativeError = 1, seErrorMsg = \"prepare 30: SELECT mode(rating) FROM data: no such function: mode\"}</span>"
      ],
      "text/plain": [
       "SqlError {seState = \"\", seNativeError = 1, seErrorMsg = \"prepare 30: SELECT mode(rating) FROM data: no such function: mode\"}"
      ]
     },
     "metadata": {},
     "output_type": "display_data"
    }
   ],
   "source": [
    "quickQuery db \"SELECT mode(rating) FROM data\" []"
   ]
  },
  {
   "cell_type": "code",
   "execution_count": 7,
   "metadata": {
    "collapsed": false
   },
   "outputs": [
    {
     "data": {
      "text/plain": []
     },
     "metadata": {},
     "output_type": "display_data"
    }
   ],
   "source": [
    "ratingsAction <- quickQuery db \"SELECT data.rating FROM data, items WHERE data.itemid=items.movieid AND items.action=1\" []"
   ]
  },
  {
   "cell_type": "code",
   "execution_count": 8,
   "metadata": {
    "collapsed": false
   },
   "outputs": [
    {
     "data": {
      "text/plain": [
       "25589"
      ]
     },
     "metadata": {},
     "output_type": "display_data"
    }
   ],
   "source": [
    "length ratingsAction"
   ]
  },
  {
   "cell_type": "code",
   "execution_count": 9,
   "metadata": {
    "collapsed": true
   },
   "outputs": [],
   "source": [
    "readColumn = map fromSql"
   ]
  },
  {
   "cell_type": "code",
   "execution_count": 10,
   "metadata": {
    "collapsed": false
   },
   "outputs": [
    {
     "data": {
      "text/plain": [
       "Just 3.480245417953027"
      ]
     },
     "metadata": {},
     "output_type": "display_data"
    }
   ],
   "source": [
    "mean (readColumn ( (head . transpose) ratingsAction) :: [Double])"
   ]
  },
  {
   "cell_type": "code",
   "execution_count": 11,
   "metadata": {
    "collapsed": false
   },
   "outputs": [
    {
     "data": {
      "text/plain": [
       "Just 4.0"
      ]
     },
     "metadata": {},
     "output_type": "display_data"
    }
   ],
   "source": [
    "median (readColumn ( (head . transpose) ratingsAction) :: [Double])"
   ]
  },
  {
   "cell_type": "code",
   "execution_count": 12,
   "metadata": {
    "collapsed": false
   },
   "outputs": [
    {
     "data": {
      "text/plain": []
     },
     "metadata": {},
     "output_type": "display_data"
    }
   ],
   "source": [
    "ratingsDrama <- quickQuery db \"SELECT data.rating FROM data, items WHERE data.itemid=items.movieid AND items.drama=1\" []"
   ]
  },
  {
   "cell_type": "code",
   "execution_count": 13,
   "metadata": {
    "collapsed": false
   },
   "outputs": [
    {
     "data": {
      "text/plain": [
       "Just 3.6873793708484772"
      ]
     },
     "metadata": {},
     "output_type": "display_data"
    }
   ],
   "source": [
    "mean (readColumn ( (head . transpose) ratingsDrama) :: [Double])"
   ]
  },
  {
   "cell_type": "code",
   "execution_count": 14,
   "metadata": {
    "collapsed": false
   },
   "outputs": [
    {
     "data": {
      "text/plain": [
       "Just 4.0"
      ]
     },
     "metadata": {},
     "output_type": "display_data"
    }
   ],
   "source": [
    "median (readColumn ( (head . transpose) ratingsDrama) :: [Double])"
   ]
  },
  {
   "cell_type": "code",
   "execution_count": 15,
   "metadata": {
    "collapsed": false
   },
   "outputs": [
    {
     "data": {
      "text/plain": []
     },
     "metadata": {},
     "output_type": "display_data"
    }
   ],
   "source": [
    "ratingsScifi <- quickQuery db \"SELECT data.rating FROM data, items WHERE data.itemid=items.movieid AND items.scifi=1\" []"
   ]
  },
  {
   "cell_type": "code",
   "execution_count": 16,
   "metadata": {
    "collapsed": false
   },
   "outputs": [
    {
     "data": {
      "text/plain": [
       "Just 3.5607227022780834"
      ]
     },
     "metadata": {},
     "output_type": "display_data"
    }
   ],
   "source": [
    "mean (readColumn ( (head . transpose) ratingsScifi) :: [Double])"
   ]
  },
  {
   "cell_type": "code",
   "execution_count": 17,
   "metadata": {
    "collapsed": false
   },
   "outputs": [
    {
     "data": {
      "text/plain": [
       "Just 4.0"
      ]
     },
     "metadata": {},
     "output_type": "display_data"
    }
   ],
   "source": [
    "median (readColumn ( (head . transpose) ratingsScifi) :: [Double])"
   ]
  },
  {
   "cell_type": "code",
   "execution_count": 18,
   "metadata": {
    "collapsed": false
   },
   "outputs": [],
   "source": [
    "ageRatings <- quickQuery db \"SELECT users.age, avg(data.rating) FROM data, users WHERE data.userid=users.userid GROUP BY users.age\" []"
   ]
  },
  {
   "cell_type": "code",
   "execution_count": 19,
   "metadata": {
    "collapsed": true
   },
   "outputs": [],
   "source": [
    "age = readColumn (((!! 0) . transpose) ageRatings) :: [Double]"
   ]
  },
  {
   "cell_type": "code",
   "execution_count": 20,
   "metadata": {
    "collapsed": true
   },
   "outputs": [],
   "source": [
    "avgRating = readColumn (((!! 1) . transpose) ageRatings) :: [Double]"
   ]
  },
  {
   "cell_type": "code",
   "execution_count": 21,
   "metadata": {
    "collapsed": false
   },
   "outputs": [
    {
     "data": {
      "text/plain": [
       "True"
      ]
     },
     "metadata": {},
     "output_type": "display_data"
    }
   ],
   "source": [
    "plot X11 $ zip age avgRating"
   ]
  },
  {
   "cell_type": "code",
   "execution_count": 22,
   "metadata": {
    "collapsed": false
   },
   "outputs": [
    {
     "data": {
      "text/plain": [
       "True"
      ]
     },
     "metadata": {},
     "output_type": "display_data"
    }
   ],
   "source": [
    "plot X11 $ Data2D [Title \"Age vs Avg. Rating\"] [] (zip age avgRating)"
   ]
  },
  {
   "cell_type": "code",
   "execution_count": 34,
   "metadata": {
    "collapsed": true
   },
   "outputs": [],
   "source": [
    "kde :: [Double] -> Maybe ([Double], [Double])\n",
    "kde [] = Nothing\n",
    "kde xs = Just (domain, mykde)\n",
    "  where\n",
    "     mykde = map (/ sum shape) shape\n",
    "     shape = foldl1 (zipWith (+)) (map (\\x -> (map (normal x 1) domain)) xs)\n",
    "     low = -5 + fst highlow\n",
    "     high = 5 + snd highlow\n",
    "     highlow = fromJust (range xs)\n",
    "     domain = [low,(low+0.1)..high]\n",
    "     normal mu sd x = exp (-((x-mu)^2 / (2*sd*sd))) / sqrt (2*sd*sd*pi)"
   ]
  },
  {
   "cell_type": "code",
   "execution_count": 35,
   "metadata": {
    "collapsed": false
   },
   "outputs": [
    {
     "data": {
      "text/plain": [
       "[[SqlInt64 50,SqlByteString \"Star Wars (1977)\"],[SqlInt64 258,SqlByteString \"Contact (1997)\"],[SqlInt64 100,SqlByteString \"Fargo (1996)\"],[SqlInt64 181,SqlByteString \"Return of the Jedi (1983)\"],[SqlInt64 294,SqlByteString \"Liar Liar (1997)\"],[SqlInt64 286,SqlByteString \"English Patient, The (1996)\"],[SqlInt64 288,SqlByteString \"Scream (1996)\"],[SqlInt64 1,SqlByteString \"Toy Story (1995)\"],[SqlInt64 300,SqlByteString \"Air Force One (1997)\"],[SqlInt64 121,SqlByteString \"Independence Day (ID4) (1996)\"]]"
      ]
     },
     "metadata": {},
     "output_type": "display_data"
    }
   ],
   "source": [
    "quickQuery db  \"SELECT data.itemid, items.title FROM data, items WHERE data.itemid=items.movieid GROUP BY data.itemid ORDER BY count(data.rating) DESC LIMIT 10\" []"
   ]
  },
  {
   "cell_type": "code",
   "execution_count": 36,
   "metadata": {
    "collapsed": true
   },
   "outputs": [],
   "source": [
    "starwarsRaw <- quickQuery db \"SELECT rating FROM data WHERE itemid=50\" []"
   ]
  },
  {
   "cell_type": "code",
   "execution_count": 37,
   "metadata": {
    "collapsed": true
   },
   "outputs": [],
   "source": [
    "starwars = readColumn (((!! 0) . transpose) starwarsRaw) :: [Double]"
   ]
  },
  {
   "cell_type": "code",
   "execution_count": 38,
   "metadata": {
    "collapsed": false
   },
   "outputs": [
    {
     "data": {
      "text/plain": [
       "583"
      ]
     },
     "metadata": {},
     "output_type": "display_data"
    }
   ],
   "source": [
    "length starwars"
   ]
  },
  {
   "cell_type": "code",
   "execution_count": 39,
   "metadata": {
    "collapsed": true
   },
   "outputs": [],
   "source": [
    "liarliarRaw <- quickQuery db \"SELECT rating FROM data WHERE itemid=294\" []"
   ]
  },
  {
   "cell_type": "code",
   "execution_count": 40,
   "metadata": {
    "collapsed": true
   },
   "outputs": [],
   "source": [
    "liarliar = readColumn (((!! 0) . transpose) liarliarRaw) :: [Double]"
   ]
  },
  {
   "cell_type": "code",
   "execution_count": 41,
   "metadata": {
    "collapsed": false
   },
   "outputs": [
    {
     "data": {
      "text/plain": [
       "485"
      ]
     },
     "metadata": {},
     "output_type": "display_data"
    }
   ],
   "source": [
    "length liarliar"
   ]
  },
  {
   "cell_type": "code",
   "execution_count": 42,
   "metadata": {
    "collapsed": true
   },
   "outputs": [],
   "source": [
    "Just (domainSW, mykdeSW) = kde starwars"
   ]
  },
  {
   "cell_type": "code",
   "execution_count": 43,
   "metadata": {
    "collapsed": true
   },
   "outputs": [],
   "source": [
    "Just (domainLL, mykdeLL) = kde liarliar"
   ]
  },
  {
   "cell_type": "code",
   "execution_count": 45,
   "metadata": {
    "collapsed": false
   },
   "outputs": [
    {
     "data": {
      "text/plain": [
       "True"
      ]
     },
     "metadata": {},
     "output_type": "display_data"
    }
   ],
   "source": [
    "plot X11 [Data2D [Style Lines] [] (zip domainSW mykdeSW), Data2D [Style Lines] [] (zip domainLL mykdeLL)]"
   ]
  },
  {
   "cell_type": "code",
   "execution_count": 46,
   "metadata": {
    "collapsed": false
   },
   "outputs": [
    {
     "data": {
      "text/plain": [
       "[-4.0,-3.9,-3.8,-3.6999999999999997,-3.5999999999999996,-3.4999999999999996,-3.3999999999999995,-3.2999999999999994,-3.1999999999999993,-3.099999999999999,-2.999999999999999,-2.899999999999999,-2.799999999999999,-2.699999999999999,-2.5999999999999988,-2.4999999999999987,-2.3999999999999986,-2.2999999999999985,-2.1999999999999984,-2.0999999999999983,-1.9999999999999982,-1.8999999999999981,-1.799999999999998,-1.699999999999998,-1.5999999999999979,-1.4999999999999978,-1.3999999999999977,-1.2999999999999976,-1.1999999999999975,-1.0999999999999974,-0.9999999999999973,-0.8999999999999972,-0.7999999999999972,-0.6999999999999971,-0.599999999999997,-0.4999999999999969,-0.3999999999999968,-0.2999999999999967,-0.19999999999999662,-9.999999999999654e-2,3.552713678800501e-15,0.10000000000000364,0.20000000000000373,0.3000000000000038,0.4000000000000039,0.500000000000004,0.6000000000000041,0.7000000000000042,0.8000000000000043,0.9000000000000044,1.0000000000000044,1.1000000000000045,1.2000000000000046,1.3000000000000047,1.4000000000000048,1.5000000000000049,1.600000000000005,1.700000000000005,1.8000000000000052,1.9000000000000052,2.0000000000000053,2.1000000000000054,2.2000000000000055,2.3000000000000056,2.4000000000000057,2.5000000000000058,2.600000000000006,2.700000000000006,2.800000000000006,2.900000000000006,3.000000000000006,3.1000000000000063,3.2000000000000064,3.3000000000000065,3.4000000000000066,3.5000000000000067,3.6000000000000068,3.700000000000007,3.800000000000007,3.900000000000007,4.000000000000007,4.100000000000007,4.200000000000006,4.300000000000006,4.400000000000006,4.500000000000005,4.600000000000005,4.700000000000005,4.800000000000004,4.900000000000004,5.0000000000000036,5.100000000000003,5.200000000000003,5.3000000000000025,5.400000000000002,5.500000000000002,5.600000000000001,5.700000000000001,5.800000000000001,5.9,6.0,6.1,6.199999999999999,6.299999999999999,6.399999999999999,6.499999999999998,6.599999999999998,6.6999999999999975,6.799999999999997,6.899999999999997,6.9999999999999964,7.099999999999996,7.199999999999996,7.299999999999995,7.399999999999995,7.499999999999995,7.599999999999994,7.699999999999994,7.799999999999994,7.899999999999993,7.999999999999993,8.099999999999993,8.199999999999992,8.299999999999992,8.399999999999991,8.499999999999991,8.59999999999999,8.69999999999999,8.79999999999999,8.89999999999999,8.99999999999999,9.099999999999989,9.199999999999989,9.299999999999988,9.399999999999988,9.499999999999988,9.599999999999987,9.699999999999987,9.799999999999986,9.899999999999986,9.999999999999986]"
      ]
     },
     "metadata": {},
     "output_type": "display_data"
    }
   ],
   "source": [
    "domainSW"
   ]
  },
  {
   "cell_type": "code",
   "execution_count": 47,
   "metadata": {
    "collapsed": false
   },
   "outputs": [
    {
     "data": {
      "text/plain": [
       "[-4.0,-3.9,-3.8,-3.6999999999999997,-3.5999999999999996,-3.4999999999999996,-3.3999999999999995,-3.2999999999999994,-3.1999999999999993,-3.099999999999999,-2.999999999999999,-2.899999999999999,-2.799999999999999,-2.699999999999999,-2.5999999999999988,-2.4999999999999987,-2.3999999999999986,-2.2999999999999985,-2.1999999999999984,-2.0999999999999983,-1.9999999999999982,-1.8999999999999981,-1.799999999999998,-1.699999999999998,-1.5999999999999979,-1.4999999999999978,-1.3999999999999977,-1.2999999999999976,-1.1999999999999975,-1.0999999999999974,-0.9999999999999973,-0.8999999999999972,-0.7999999999999972,-0.6999999999999971,-0.599999999999997,-0.4999999999999969,-0.3999999999999968,-0.2999999999999967,-0.19999999999999662,-9.999999999999654e-2,3.552713678800501e-15,0.10000000000000364,0.20000000000000373,0.3000000000000038,0.4000000000000039,0.500000000000004,0.6000000000000041,0.7000000000000042,0.8000000000000043,0.9000000000000044,1.0000000000000044,1.1000000000000045,1.2000000000000046,1.3000000000000047,1.4000000000000048,1.5000000000000049,1.600000000000005,1.700000000000005,1.8000000000000052,1.9000000000000052,2.0000000000000053,2.1000000000000054,2.2000000000000055,2.3000000000000056,2.4000000000000057,2.5000000000000058,2.600000000000006,2.700000000000006,2.800000000000006,2.900000000000006,3.000000000000006,3.1000000000000063,3.2000000000000064,3.3000000000000065,3.4000000000000066,3.5000000000000067,3.6000000000000068,3.700000000000007,3.800000000000007,3.900000000000007,4.000000000000007,4.100000000000007,4.200000000000006,4.300000000000006,4.400000000000006,4.500000000000005,4.600000000000005,4.700000000000005,4.800000000000004,4.900000000000004,5.0000000000000036,5.100000000000003,5.200000000000003,5.3000000000000025,5.400000000000002,5.500000000000002,5.600000000000001,5.700000000000001,5.800000000000001,5.9,6.0,6.1,6.199999999999999,6.299999999999999,6.399999999999999,6.499999999999998,6.599999999999998,6.6999999999999975,6.799999999999997,6.899999999999997,6.9999999999999964,7.099999999999996,7.199999999999996,7.299999999999995,7.399999999999995,7.499999999999995,7.599999999999994,7.699999999999994,7.799999999999994,7.899999999999993,7.999999999999993,8.099999999999993,8.199999999999992,8.299999999999992,8.399999999999991,8.499999999999991,8.59999999999999,8.69999999999999,8.79999999999999,8.89999999999999,8.99999999999999,9.099999999999989,9.199999999999989,9.299999999999988,9.399999999999988,9.499999999999988,9.599999999999987,9.699999999999987,9.799999999999986,9.899999999999986,9.999999999999986]"
      ]
     },
     "metadata": {},
     "output_type": "display_data"
    }
   ],
   "source": [
    "domainLL"
   ]
  },
  {
   "cell_type": "code",
   "execution_count": 48,
   "metadata": {
    "collapsed": false
   },
   "outputs": [
    {
     "data": {
      "text/plain": [
       "0.6533607763536907"
      ]
     },
     "metadata": {},
     "output_type": "display_data"
    }
   ],
   "source": [
    "sum $ map (\\(sw, ll) -> if ll <= sw then ll else sw) (zip mykdeSW mykdeLL)"
   ]
  },
  {
   "cell_type": "code",
   "execution_count": 49,
   "metadata": {
    "collapsed": false
   },
   "outputs": [
    {
     "data": {
      "text/plain": [
       "1.0000000000000002"
      ]
     },
     "metadata": {},
     "output_type": "display_data"
    }
   ],
   "source": [
    "sum $ map (\\(sw, ll) -> if ll <= sw then ll else sw) (zip mykdeSW mykdeSW)"
   ]
  },
  {
   "cell_type": "code",
   "execution_count": null,
   "metadata": {
    "collapsed": true
   },
   "outputs": [],
   "source": []
  }
 ],
 "metadata": {
  "kernelspec": {
   "display_name": "Haskell",
   "language": "haskell",
   "name": "haskell"
  },
  "language_info": {
   "codemirror_mode": "ihaskell",
   "file_extension": ".hs",
   "name": "haskell",
   "version": "7.6.3"
  }
 },
 "nbformat": 4,
 "nbformat_minor": 0
}
