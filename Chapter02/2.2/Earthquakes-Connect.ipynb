{
 "cells": [
  {
   "cell_type": "code",
   "execution_count": 2,
   "metadata": {
    "collapsed": false
   },
   "outputs": [],
   "source": [
    "import Data.List\n",
    "import Database.HDBC.Sqlite3\n",
    "import Database.HDBC"
   ]
  },
  {
   "cell_type": "code",
   "execution_count": 3,
   "metadata": {
    "collapsed": false
   },
   "outputs": [
    {
     "data": {
      "text/plain": []
     },
     "metadata": {},
     "output_type": "display_data"
    }
   ],
   "source": [
    "db <- connectSqlite3 \"../data/usgs.sqlite3\""
   ]
  },
  {
   "cell_type": "code",
   "execution_count": 4,
   "metadata": {
    "collapsed": true
   },
   "outputs": [],
   "source": [
    "records <- quickQuery db \"SELECT * FROM earthquakes LIMIT 5\" []"
   ]
  },
  {
   "cell_type": "code",
   "execution_count": 5,
   "metadata": {
    "collapsed": false
   },
   "outputs": [
    {
     "data": {
      "text/plain": [
       "[[SqlByteString \"2016-07-11T19:44:16.470Z\",SqlDouble 38.2513,SqlDouble (-115.9473),SqlDouble 20.2,SqlDouble 1.7],[SqlByteString \"2016-07-11T19:38:52.140Z\",SqlDouble 38.2467,SqlDouble (-118.6373),SqlDouble 7.0,SqlDouble 0.8],[SqlByteString \"2016-07-11T19:27:19.750Z\",SqlDouble 38.6712,SqlDouble (-117.0597),SqlDouble 0.3,SqlDouble 1.7],[SqlByteString \"2016-07-11T19:01:47.820Z\",SqlDouble 48.0008333,SqlDouble (-121.9131667),SqlDouble 11.92,SqlDouble 1.8],[SqlByteString \"2016-07-11T18:48:12.000Z\",SqlDouble 60.2407,SqlDouble (-141.6943),SqlDouble 13.7,SqlDouble 1.3]]"
      ]
     },
     "metadata": {},
     "output_type": "display_data"
    }
   ],
   "source": [
    "records"
   ]
  },
  {
   "cell_type": "code",
   "execution_count": 6,
   "metadata": {
    "collapsed": false
   },
   "outputs": [
    {
     "data": {
      "text/plain": [
       "5"
      ]
     },
     "metadata": {},
     "output_type": "display_data"
    }
   ],
   "source": [
    "length records"
   ]
  },
  {
   "cell_type": "code",
   "execution_count": 8,
   "metadata": {
    "collapsed": true
   },
   "outputs": [],
   "source": [
    "readColumn = map fromSql"
   ]
  },
  {
   "cell_type": "code",
   "execution_count": 9,
   "metadata": {
    "collapsed": false
   },
   "outputs": [
    {
     "data": {
      "text/plain": [
       "[20.2,7.0,0.3,11.92,13.7]"
      ]
     },
     "metadata": {},
     "output_type": "display_data"
    }
   ],
   "source": [
    "readColumn (transpose records !! 3) :: [Double]"
   ]
  },
  {
   "cell_type": "code",
   "execution_count": null,
   "metadata": {
    "collapsed": true
   },
   "outputs": [],
   "source": []
  }
 ],
 "metadata": {
  "kernelspec": {
   "display_name": "Haskell",
   "language": "haskell",
   "name": "haskell"
  },
  "language_info": {
   "codemirror_mode": "ihaskell",
   "file_extension": ".hs",
   "name": "haskell",
   "version": "7.6.3"
  }
 },
 "nbformat": 4,
 "nbformat_minor": 0
}
